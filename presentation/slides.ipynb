{
 "cells": [
  {
   "cell_type": "markdown",
   "metadata": {
    "slideshow": {
     "slide_type": "slide"
    }
   },
   "source": [
    "# Make Python Great Again\n",
    "![Don't Thread On Me](https://i.redd.it/tbe8q8c1kl011.png)"
   ]
  },
  {
   "cell_type": "markdown",
   "metadata": {
    "slideshow": {
     "slide_type": "notes"
    }
   },
   "source": [
    "* env and workflow - first part of a series\n",
    "* tools\n",
    "* programing"
   ]
  },
  {
   "cell_type": "markdown",
   "metadata": {
    "slideshow": {
     "slide_type": "slide"
    }
   },
   "source": [
    "# Make Python Great Again\n",
    "\n",
    "## Workstation Environment and Worflow\n",
    "* Multiple Versions of Python\n",
    "* Package and Dependency Management\n",
    "* Project/Application Isolation"
   ]
  },
  {
   "cell_type": "markdown",
   "metadata": {
    "slideshow": {
     "slide_type": "notes"
    }
   },
   "source": [
    "* tools\n",
    "* setting up an enviroment\n",
    "* and workflow to use and \n",
    "* develop python application (setuptools)\n",
    "* i do not use conda (yet)"
   ]
  },
  {
   "cell_type": "markdown",
   "metadata": {
    "slideshow": {
     "slide_type": "slide"
    }
   },
   "source": [
    "# Python Is Great!\n",
    "\n",
    "> work quickly and integrate systems more effectively\n",
    "\n",
    "&ndash; [python.org](https://python.org)"
   ]
  },
  {
   "cell_type": "markdown",
   "metadata": {
    "slideshow": {
     "slide_type": "slide"
    }
   },
   "source": [
    "# Python is Great: Quick to Learn\n",
    "![Python is Easy](https://i.redd.it/ugexjlyu2oj11.jpg)"
   ]
  },
  {
   "cell_type": "markdown",
   "metadata": {
    "pycharm": {
     "name": "#%% md\n"
    },
    "slideshow": {
     "slide_type": "slide"
    }
   },
   "source": [
    "# Python Is Great: import antigravity\n",
    "![import anitgravity](https://imgs.xkcd.com/comics/python.png)<br/>\n",
    "<small><sub>[xkcd.com/353](https://xkcd.com/353/)</sub></small>"
   ]
  },
  {
   "cell_type": "markdown",
   "metadata": {
    "pycharm": {
     "name": "#%% md\n"
    },
    "slideshow": {
     "slide_type": "notes"
    }
   },
   "source": [
    "thriving ecosystem of modules"
   ]
  },
  {
   "cell_type": "markdown",
   "metadata": {
    "slideshow": {
     "slide_type": "slide"
    }
   },
   "source": [
    "# Python and Me\n",
    "## Managing CDN Infrastructure\n",
    "\n",
    "* SaltStack\n",
    "* OpenStack"
   ]
  },
  {
   "cell_type": "markdown",
   "metadata": {
    "slideshow": {
     "slide_type": "slide"
    }
   },
   "source": [
    "# Python and Me\n",
    "## Compliance Enforcement\n",
    "\n",
    "* AWS Boto3\n",
    "* Cloud Custodian"
   ]
  },
  {
   "cell_type": "markdown",
   "metadata": {
    "slideshow": {
     "slide_type": "slide"
    }
   },
   "source": [
    "## This Presentation Is Created With Python!!"
   ]
  },
  {
   "cell_type": "code",
   "execution_count": null,
   "metadata": {
    "pycharm": {
     "is_executing": false,
     "name": "#%%\n"
    },
    "slideshow": {
     "slide_type": "fragment"
    }
   },
   "outputs": [],
   "source": [
    "get_ipython().show_banner()"
   ]
  },
  {
   "cell_type": "markdown",
   "metadata": {
    "slideshow": {
     "slide_type": "slide"
    }
   },
   "source": [
    "# Python is Fun!"
   ]
  },
  {
   "cell_type": "code",
   "execution_count": null,
   "metadata": {
    "pycharm": {
     "is_executing": false,
     "name": "#%%\n"
    },
    "slideshow": {
     "slide_type": "fragment"
    }
   },
   "outputs": [],
   "source": [
    "from base64 import b64decode\n",
    "from PIL import Image, ImageDraw, ImageFont\n",
    "\n",
    "text = b64decode(b\"UHl0aG9uIGlzIGdyZWF0Li4uClVudGlsIGl0IGlzbid0Lg==\").decode()\n",
    "img = Image.open(\"image.png\")\n",
    "font = ImageFont.truetype(\"FreeSansBold.ttf\", size=48)\n",
    "ImageDraw.Draw(img).multiline_text(\n",
    "    (115,300), text, align=\"center\", font=font,\n",
    "    fill=(255,255,255,255), stroke_width=7, stroke_fill=(0,0,0,0))"
   ]
  },
  {
   "cell_type": "code",
   "execution_count": null,
   "metadata": {
    "pycharm": {
     "is_executing": false,
     "name": "#%%\n"
    },
    "slideshow": {
     "slide_type": "slide"
    }
   },
   "outputs": [],
   "source": [
    "from IPython.display import display\n",
    "display(img)"
   ]
  },
  {
   "cell_type": "markdown",
   "metadata": {
    "slideshow": {
     "slide_type": "slide"
    }
   },
   "source": [
    "# When Python is Not So Great"
   ]
  },
  {
   "cell_type": "markdown",
   "metadata": {
    "slideshow": {
     "slide_type": "slide"
    }
   },
   "source": [
    "## Things Break\n",
    "\n",
    "* Different Version of Python between evns, devs, etc\n",
    "* System Python gets borked\n",
    "* Dependancy Conflicts\n",
    "* Installed Python tools no longer working"
   ]
  },
  {
   "cell_type": "markdown",
   "metadata": {
    "slideshow": {
     "slide_type": "notes"
    }
   },
   "source": [
    "* Dev vs Prod\n",
    "* Runs on my laptop\n",
    "* Python is broken"
   ]
  },
  {
   "cell_type": "markdown",
   "metadata": {
    "slideshow": {
     "slide_type": "slide"
    }
   },
   "source": [
    "## Too Many Solutions\n",
    "![Python Environment](https://imgs.xkcd.com/comics/python_environment.png)<br/>\n",
    "<small><sub>[xkcd.com/353](https://xkcd.com/1987/)</sub></small>"
   ]
  },
  {
   "cell_type": "markdown",
   "metadata": {
    "slideshow": {
     "slide_type": "notes"
    }
   },
   "source": [
    "April 2018"
   ]
  },
  {
   "cell_type": "markdown",
   "metadata": {
    "slideshow": {
     "slide_type": "slide"
    }
   },
   "source": [
    "### Even More Now! 🤦\n",
    "\n",
    "* pythonbrew\n",
    "* pythonz\n",
    "* flit\n",
    "* poetry\n",
    "* dephell\n",
    "* hatch\n",
    "* more?"
   ]
  },
  {
   "cell_type": "markdown",
   "metadata": {
    "slideshow": {
     "slide_type": "fragment"
    }
   },
   "source": [
    "## So Many Versions\n",
    "\n",
    "* type-hints 3.5+\n",
    "* f-strings 3.6+\n",
    "* dataclasses 3.7+\n",
    "* walrus operator 3.8+"
   ]
  },
  {
   "cell_type": "markdown",
   "metadata": {
    "slideshow": {
     "slide_type": "notes"
    }
   },
   "source": [
    "assignment expression"
   ]
  },
  {
   "cell_type": "markdown",
   "metadata": {
    "slideshow": {
     "slide_type": "slide"
    }
   },
   "source": [
    "### Python 2 vs 3\n",
    "\n",
    "> Efforts to port calibre to python 3 are ongoing.\n",
    "\n",
    "&ndash; [Calibre README.python3](https://github.com/kovidgoyal/calibre/blob/master/README.python3)"
   ]
  },
  {
   "cell_type": "markdown",
   "metadata": {
    "slideshow": {
     "slide_type": "notes"
    }
   },
   "source": [
    "Thought this was over?"
   ]
  },
  {
   "cell_type": "markdown",
   "metadata": {
    "slideshow": {
     "slide_type": "slide"
    }
   },
   "source": [
    "## Breaking System Python\n",
    "\n",
    "* Belongs to system\n",
    "* Lack of control of version\n",
    "* **Don't** brake it!"
   ]
  },
  {
   "cell_type": "markdown",
   "metadata": {
    "slideshow": {
     "slide_type": "slide"
    }
   },
   "source": [
    "# Ugh\n",
    "![Sad Snake](https://ctl.s6img.com/society6/img/Jf153vfWsWTEmK36C0n1TCj54t0/w_700/prints/~artwork/s6-0017/a/6052340_12236915/~~/sad-snake-prints.jpg)"
   ]
  },
  {
   "cell_type": "markdown",
   "metadata": {
    "slideshow": {
     "slide_type": "slide"
    }
   },
   "source": [
    "# Make Python Great Again: Versions\n",
    "![Real Python Pyenv](https://files.realpython.com/media/Getting-Started-With-pyenv_Watermarked.7b1dd55b32a1.jpg)\n",
    "<br/>[realpython.com/intro-to-pyenv/](https://realpython.com/intro-to-pyenv/)"
   ]
  },
  {
   "cell_type": "markdown",
   "metadata": {
    "slideshow": {
     "slide_type": "slide"
    }
   },
   "source": [
    "## Pyenv\n",
    "### Simple Python Version Management\n",
    "\n",
    "* Easily switch Python versions\n",
    "  * per-user\n",
    "  * per-project\n",
    "* Override with an environment variable\n"
   ]
  },
  {
   "cell_type": "markdown",
   "metadata": {
    "slideshow": {
     "slide_type": "slide"
    }
   },
   "source": [
    "## Pipenv Demo"
   ]
  },
  {
   "cell_type": "code",
   "execution_count": null,
   "metadata": {
    "slideshow": {
     "slide_type": "fragment"
    }
   },
   "outputs": [],
   "source": [
    "! pyenv install --list | grep '^ *3' | tail"
   ]
  },
  {
   "cell_type": "code",
   "execution_count": null,
   "metadata": {
    "pycharm": {
     "is_executing": false,
     "name": "#%%\n"
    },
    "slideshow": {
     "slide_type": "slide"
    }
   },
   "outputs": [],
   "source": [
    "! pyenv versions"
   ]
  },
  {
   "cell_type": "code",
   "execution_count": null,
   "metadata": {
    "slideshow": {
     "slide_type": "slide"
    }
   },
   "outputs": [],
   "source": [
    "%%bash -l\n",
    "pyenv version\n",
    "python3 --version 1>&2"
   ]
  },
  {
   "cell_type": "code",
   "execution_count": null,
   "metadata": {
    "slideshow": {
     "slide_type": "slide"
    }
   },
   "outputs": [],
   "source": [
    "! python2 --version || exit 0"
   ]
  },
  {
   "cell_type": "code",
   "execution_count": null,
   "metadata": {
    "slideshow": {
     "slide_type": "fragment"
    }
   },
   "outputs": [],
   "source": [
    "%%bash -l\n",
    "pyenv shell 2.7.17 3.6.10 3.9-dev\n",
    "\n",
    "pyenv versions\n",
    "python2 --version 1>&2\n",
    "python3 --version 1>&2"
   ]
  },
  {
   "cell_type": "markdown",
   "metadata": {
    "slideshow": {
     "slide_type": "slide"
    }
   },
   "source": [
    "# Python is Great Again!\n",
    "## Can Use Any Version of Python\n",
    "\n",
    "\n",
    "* Install applications with any version requirement\n",
    "* Test against multiple versions\n",
    "* Create virtual enviroments with any version"
   ]
  },
  {
   "cell_type": "markdown",
   "metadata": {
    "slideshow": {
     "slide_type": "slide"
    }
   },
   "source": [
    "# Isn't Great: Dependency Conflicts\n",
    "\n",
    "![One does not simply `pip install`](https://image.slidesharecdn.com/nix-for-python-developers-151019143127-lva1-app6891/95/nix-for-python-developers-8-638.jpg)"
   ]
  },
  {
   "cell_type": "markdown",
   "metadata": {
    "slideshow": {
     "slide_type": "slide"
    }
   },
   "source": [
    "## Python GnuPG Demo"
   ]
  },
  {
   "cell_type": "code",
   "execution_count": null,
   "metadata": {
    "slideshow": {
     "slide_type": "fragment"
    }
   },
   "outputs": [],
   "source": [
    "! pip list | grep -E '(gnupg|Version$|^-)'\n",
    "import gnupg\n",
    "print(f\"\\nLoaded {gnupg.__name__} module version: {gnupg.__version__}\")"
   ]
  },
  {
   "cell_type": "markdown",
   "metadata": {
    "slideshow": {
     "slide_type": "slide"
    }
   },
   "source": [
    "### Different GnuPG Dependencies"
   ]
  },
  {
   "cell_type": "code",
   "execution_count": null,
   "metadata": {
    "slideshow": {
     "slide_type": "fragment"
    }
   },
   "outputs": [],
   "source": [
    "! pip install gnupg\n",
    "! pip list | grep -E '(gnupg|Version$|^-)'"
   ]
  },
  {
   "cell_type": "markdown",
   "metadata": {
    "slideshow": {
     "slide_type": "slide"
    }
   },
   "source": [
    "### Which will load?"
   ]
  },
  {
   "cell_type": "code",
   "execution_count": null,
   "metadata": {
    "slideshow": {
     "slide_type": "fragment"
    }
   },
   "outputs": [],
   "source": [
    "import contextlib, importlib\n",
    "with contextlib.suppress(NameError): importlib.reload(gnupg)\n",
    "print(f\"Loaded module {gnupg.__name__} {gnupg.__version__}\")"
   ]
  },
  {
   "cell_type": "markdown",
   "metadata": {
    "slideshow": {
     "slide_type": "slide"
    }
   },
   "source": [
    "![Everything is broken](https://www.koskila.net/wp-content/uploads/2018/05/image-1.gif)"
   ]
  },
  {
   "cell_type": "markdown",
   "metadata": {
    "slideshow": {
     "slide_type": "notes"
    }
   },
   "source": [
    "saltstack"
   ]
  },
  {
   "cell_type": "markdown",
   "metadata": {
    "slideshow": {
     "slide_type": "slide"
    }
   },
   "source": [
    "# Not So Great\n",
    "## Mo Environments, Mo Problems"
   ]
  },
  {
   "cell_type": "markdown",
   "metadata": {
    "slideshow": {
     "slide_type": "slide"
    }
   },
   "source": [
    "### Solution\n",
    "![Dev in Prod](http://i.imgur.com/dZnn18Y.jpg)"
   ]
  },
  {
   "cell_type": "markdown",
   "metadata": {
    "slideshow": {
     "slide_type": "slide"
    }
   },
   "source": [
    "# Virtual Enviroments\n",
    "\n",
    "![Virtual Enviroments](https://exoticbaryon.anset.org/wp-content/uploads/sites/2/2017/03/python-virtual-env.png)\n"
   ]
  },
  {
   "cell_type": "markdown",
   "metadata": {
    "slideshow": {
     "slide_type": "notes"
    }
   },
   "source": [
    "* Isolated environment for projects\n",
    "* Each project can have its own dependencies"
   ]
  },
  {
   "cell_type": "markdown",
   "metadata": {
    "slideshow": {
     "slide_type": "slide"
    }
   },
   "source": [
    "# No So Great\n",
    "## Virtual Environments UX"
   ]
  },
  {
   "cell_type": "code",
   "execution_count": null,
   "metadata": {
    "slideshow": {
     "slide_type": "slide"
    }
   },
   "outputs": [],
   "source": [
    "%%bash -l\n",
    "\n",
    "pyenv shell 3.6.10  # set desired python version\n",
    "python3 -m venv venv-4-project  # create venv\n",
    "source ./venv-4-project/bin/activate  # activate venv\n",
    "\n",
    "which python3\n",
    "python3 -m pip list"
   ]
  },
  {
   "cell_type": "markdown",
   "metadata": {
    "slideshow": {
     "slide_type": "slide"
    }
   },
   "source": [
    "### Managing Virtual Environments\n",
    "![Managing Venv](img/managing-venv.png)"
   ]
  },
  {
   "cell_type": "markdown",
   "metadata": {
    "slideshow": {
     "slide_type": "slide"
    }
   },
   "source": [
    "# Make Great w/ Better Virtual Envs\n",
    "\n",
    "* Pipx for installing tooling\n",
    "* Pipenv for project development"
   ]
  },
  {
   "cell_type": "markdown",
   "metadata": {
    "slideshow": {
     "slide_type": "notes"
    }
   },
   "source": [
    "* abstract venv\n",
    "* to implementation detail"
   ]
  },
  {
   "cell_type": "markdown",
   "metadata": {
    "slideshow": {
     "slide_type": "slide"
    }
   },
   "source": [
    "## Install and Run Python Applications in Isolated Environments\n",
    "![pipx logo](https://raw.githubusercontent.com/pipxproject/pipx/master/logo.png)"
   ]
  },
  {
   "cell_type": "markdown",
   "metadata": {
    "slideshow": {
     "slide_type": "slide"
    }
   },
   "source": [
    "## Pipx Demo"
   ]
  },
  {
   "cell_type": "markdown",
   "metadata": {
    "slideshow": {
     "slide_type": "slide"
    }
   },
   "source": [
    "### Install A Thing"
   ]
  },
  {
   "cell_type": "code",
   "execution_count": null,
   "metadata": {
    "slideshow": {
     "slide_type": "fragment"
    }
   },
   "outputs": [],
   "source": [
    "! pipx install pyjokes"
   ]
  },
  {
   "cell_type": "markdown",
   "metadata": {
    "slideshow": {
     "slide_type": "slide"
    }
   },
   "source": [
    "### Does It Work?"
   ]
  },
  {
   "cell_type": "code",
   "execution_count": null,
   "metadata": {
    "slideshow": {
     "slide_type": "fragment"
    }
   },
   "outputs": [],
   "source": [
    "! pyjoke"
   ]
  },
  {
   "cell_type": "markdown",
   "metadata": {
    "slideshow": {
     "slide_type": "slide"
    }
   },
   "source": [
    "### Are We Isolated?"
   ]
  },
  {
   "cell_type": "code",
   "execution_count": null,
   "metadata": {
    "slideshow": {
     "slide_type": "fragment"
    }
   },
   "outputs": [],
   "source": [
    "! pipx runpip pyjokes list"
   ]
  },
  {
   "cell_type": "markdown",
   "metadata": {
    "slideshow": {
     "slide_type": "slide"
    }
   },
   "source": [
    "### System Python Affected?"
   ]
  },
  {
   "cell_type": "code",
   "execution_count": null,
   "metadata": {
    "slideshow": {
     "slide_type": "fragment"
    }
   },
   "outputs": [],
   "source": [
    "! /usr/bin/python3 -m pip list"
   ]
  },
  {
   "cell_type": "markdown",
   "metadata": {
    "slideshow": {
     "slide_type": "slide"
    }
   },
   "source": [
    "## But Wait, There's More\n",
    "## Ephemeral Venvs"
   ]
  },
  {
   "cell_type": "code",
   "execution_count": null,
   "metadata": {
    "slideshow": {
     "slide_type": "slide"
    }
   },
   "outputs": [],
   "source": [
    "! pipx run cowsay \"$(fortune -s)\""
   ]
  },
  {
   "cell_type": "markdown",
   "metadata": {
    "slideshow": {
     "slide_type": "slide"
    }
   },
   "source": [
    "### Did It Install?"
   ]
  },
  {
   "cell_type": "code",
   "execution_count": null,
   "metadata": {
    "scrolled": true,
    "slideshow": {
     "slide_type": "slide"
    }
   },
   "outputs": [],
   "source": [
    "! pipx list"
   ]
  },
  {
   "cell_type": "markdown",
   "metadata": {
    "slideshow": {
     "slide_type": "slide"
    }
   },
   "source": [
    "# Venv 4 Development\n",
    "![pipenv](https://static.codingforentrepreneurs.com/media/cfe-blog/pipenv-virtual-environments-for-python/pipenv.jpg)"
   ]
  },
  {
   "cell_type": "markdown",
   "metadata": {
    "slideshow": {
     "slide_type": "slide"
    }
   },
   "source": [
    "# Pipenv\n",
    "## Python Development Workflow for Humans.\n",
    "\n",
    "A Wrapper for Pip-Tools and VirtualEnv\n",
    "\n",
    "(kinda)"
   ]
  },
  {
   "cell_type": "markdown",
   "metadata": {
    "slideshow": {
     "slide_type": "slide"
    }
   },
   "source": [
    "# Pipevn Demo\n",
    "## Create a Script"
   ]
  },
  {
   "cell_type": "markdown",
   "metadata": {
    "slideshow": {
     "slide_type": "slide"
    }
   },
   "source": [
    "### Create Dev Venv"
   ]
  },
  {
   "cell_type": "code",
   "execution_count": 234,
   "metadata": {
    "slideshow": {
     "slide_type": "fragment"
    }
   },
   "outputs": [
    {
     "name": "stdout",
     "output_type": "stream",
     "text": [
      "\u001b[39m\u001b[1mInstalling \u001b[32m\u001b[1mcowsay\u001b[39m\u001b[22m…\u001b[39m\u001b[22m\n",
      "\u001b[K\u001b[39m\u001b[1mAdding\u001b[39m\u001b[22m \u001b[32m\u001b[1mcowsay\u001b[39m\u001b[22m \u001b[39m\u001b[1mto Pipfile's\u001b[39m\u001b[22m \u001b[31m\u001b[1m[packages]\u001b[39m\u001b[22m\u001b[39m\u001b[1m…\u001b[39m\u001b[22m\n",
      "\u001b[K\u001b[?25h✔ Installation Succeeded\u001b[0m \n",
      "\u001b[39m\u001b[1mInstalling dependencies from Pipfile…\u001b[39m\u001b[22m\n",
      "  🐍   \u001b[32m\u001b[1m▉\u001b[39m\u001b[22m\u001b[32m\u001b[1m▉\u001b[39m\u001b[22m\u001b[32m\u001b[1m▉\u001b[39m\u001b[22m\u001b[32m\u001b[1m▉\u001b[39m\u001b[22m\u001b[32m\u001b[1m▉\u001b[39m\u001b[22m\u001b[32m\u001b[1m▉\u001b[39m\u001b[22m\u001b[32m\u001b[1m▉\u001b[39m\u001b[22m\u001b[32m\u001b[1m▉\u001b[39m\u001b[22m\u001b[32m\u001b[1m▉\u001b[39m\u001b[22m\u001b[32m\u001b[1m▉\u001b[39m\u001b[22m\u001b[32m\u001b[1m▉\u001b[39m\u001b[22m\u001b[32m\u001b[1m▉\u001b[39m\u001b[22m\u001b[32m\u001b[1m▉\u001b[39m\u001b[22m\u001b[32m\u001b[1m▉\u001b[39m\u001b[22m\u001b[32m\u001b[1m▉\u001b[39m\u001b[22m\u001b[32m\u001b[1m▉\u001b[39m\u001b[22m\u001b[32m\u001b[1m▉\u001b[39m\u001b[22m\u001b[32m\u001b[1m▉\u001b[39m\u001b[22m\u001b[32m\u001b[1m▉\u001b[39m\u001b[22m\u001b[32m\u001b[1m▉\u001b[39m\u001b[22m\u001b[32m\u001b[1m▉\u001b[39m\u001b[22m\u001b[32m\u001b[1m▉\u001b[39m\u001b[22m\u001b[32m\u001b[1m▉\u001b[39m\u001b[22m\u001b[32m\u001b[1m▉\u001b[39m\u001b[22m\u001b[32m\u001b[1m▉\u001b[39m\u001b[22m\u001b[32m\u001b[1m▉\u001b[39m\u001b[22m\u001b[32m\u001b[1m▉\u001b[39m\u001b[22m\u001b[32m\u001b[1m▉\u001b[39m\u001b[22m\u001b[32m\u001b[1m▉\u001b[39m\u001b[22m\u001b[32m\u001b[1m▉\u001b[39m\u001b[22m\u001b[32m\u001b[1m▉\u001b[39m\u001b[22m\u001b[32m\u001b[1m▉\u001b[39m\u001b[22m 2/2 — \u001b[30m\u001b[22m00:00:03\u001b[39m\u001b[22m:00:00\u001b[39m\u001b[22m:00:00\u001b[39m\u001b[22m\n",
      "\u001b[0m"
     ]
    }
   ],
   "source": [
    "! cd ~/pipenv-example ;\\\n",
    "  pipenv install cowsay"
   ]
  },
  {
   "cell_type": "markdown",
   "metadata": {
    "slideshow": {
     "slide_type": "notes"
    }
   },
   "source": [
    "* venv created w/ dep\n",
    "* what is this Pipfile?"
   ]
  },
  {
   "cell_type": "markdown",
   "metadata": {
    "slideshow": {
     "slide_type": "slide"
    }
   },
   "source": [
    "### Pipfile"
   ]
  },
  {
   "cell_type": "code",
   "execution_count": null,
   "metadata": {
    "slideshow": {
     "slide_type": "slide"
    }
   },
   "outputs": [],
   "source": [
    "! cd ~/pipenv-example && cat Pipfile"
   ]
  },
  {
   "cell_type": "markdown",
   "metadata": {
    "slideshow": {
     "slide_type": "slide"
    }
   },
   "source": [
    "### The Virtual Environment"
   ]
  },
  {
   "cell_type": "code",
   "execution_count": 236,
   "metadata": {
    "slideshow": {
     "slide_type": "fragment"
    }
   },
   "outputs": [
    {
     "name": "stdout",
     "output_type": "stream",
     "text": [
      "Package    Version Location                 \n",
      "---------- ------- -------------------------\n",
      "cowsay     2.0.3   \n",
      "pip        20.0.2  \n",
      "setuptools 45.2.0  \n",
      "tuxsay     0.0.2   /home/demo/pipenv-example\n",
      "wheel      0.34.2  \n"
     ]
    },
    {
     "name": "stderr",
     "output_type": "stream",
     "text": [
      "/home/demo/.local/share/virtualenvs/pipenv-example-xZRMJ9gp/bin/cowsay\n"
     ]
    }
   ],
   "source": [
    "%%bash\n",
    "cd ~/pipenv-example\n",
    "pipenv run python3 -m pip list\n",
    "pipenv run which cowsay 1>&2"
   ]
  },
  {
   "cell_type": "markdown",
   "metadata": {
    "slideshow": {
     "slide_type": "slide"
    }
   },
   "source": [
    "### Write the Script"
   ]
  },
  {
   "cell_type": "code",
   "execution_count": 220,
   "metadata": {
    "slideshow": {
     "slide_type": "fragment"
    }
   },
   "outputs": [],
   "source": [
    "%%bash\n",
    "cat << EOF > ~/pipenv-example/tuxsay.py\n",
    "\n",
    "import cowsay, sys\n",
    "phrase = \" \".join(sys.argv[1:]) if sys.argv[1:] else \"meep\"\n",
    "def main(): cowsay.tux(phrase)\n",
    "if __name__ == \"__main__\": main()\n",
    "\n",
    "EOF"
   ]
  },
  {
   "cell_type": "code",
   "execution_count": null,
   "metadata": {
    "slideshow": {
     "slide_type": "slide"
    }
   },
   "outputs": [],
   "source": [
    "! cd ~/pipenv-example &&\\\n",
    "pipenv run python3 tuxsay.py"
   ]
  },
  {
   "cell_type": "markdown",
   "metadata": {
    "slideshow": {
     "slide_type": "slide"
    }
   },
   "source": [
    "### Let Develop An Application"
   ]
  },
  {
   "cell_type": "code",
   "execution_count": null,
   "metadata": {
    "slideshow": {
     "slide_type": "fragment"
    }
   },
   "outputs": [],
   "source": [
    "%%bash\n",
    "cat << EOF > ~/pipenv-example/setup.py\n",
    "\n",
    "from setuptools import setup\n",
    "setup(name=\"tuxsay\",\n",
    "      version=\"0.0.2\",\n",
    "      py_modules=[\"tuxsay\"],\n",
    "      install_requires=[\"cowsay\"],\n",
    "      entry_points={\"console_scripts\": [\"tuxsay=tuxsay:main\"]})\n",
    "\n",
    "EOF"
   ]
  },
  {
   "cell_type": "markdown",
   "metadata": {
    "slideshow": {
     "slide_type": "slide"
    }
   },
   "source": [
    "### Update Environment"
   ]
  },
  {
   "cell_type": "code",
   "execution_count": null,
   "metadata": {
    "slideshow": {
     "slide_type": "fragment"
    }
   },
   "outputs": [],
   "source": [
    "! cd ~/pipenv-example && rm Pipfile &&\\\n",
    "  pipenv install -e ."
   ]
  },
  {
   "cell_type": "code",
   "execution_count": null,
   "metadata": {
    "slideshow": {
     "slide_type": "slide"
    }
   },
   "outputs": [],
   "source": [
    "! cat ~/pipenv-example/Pipfile"
   ]
  },
  {
   "cell_type": "code",
   "execution_count": null,
   "metadata": {
    "slideshow": {
     "slide_type": "slide"
    }
   },
   "outputs": [],
   "source": [
    "! cd ~/pipenv-example &&\\\n",
    "  pipenv run tuxsay"
   ]
  },
  {
   "cell_type": "markdown",
   "metadata": {
    "slideshow": {
     "slide_type": "slide"
    }
   },
   "source": [
    "### We Can Make Changes w/o Re-Installing"
   ]
  },
  {
   "cell_type": "code",
   "execution_count": 206,
   "metadata": {
    "slideshow": {
     "slide_type": "fragment"
    }
   },
   "outputs": [],
   "source": [
    "! sed -i'' 's/cowsay.*(/cowsay\\.daemon(/' ~/pipenv-example/tuxsay.py"
   ]
  },
  {
   "cell_type": "code",
   "execution_count": 212,
   "metadata": {
    "scrolled": true,
    "slideshow": {
     "slide_type": "slide"
    }
   },
   "outputs": [
    {
     "name": "stdout",
     "output_type": "stream",
     "text": [
      "  ____\r\n",
      "< meep >\r\n",
      "  ====\r\n",
      "         \\\r\n",
      "          \\\r\n",
      "           \\     \r\n",
      "            .--.\r\n",
      "           |o_o |\r\n",
      "           |:_/ |\r\n",
      "          //   \\ \\\r\n",
      "         (|     | )\r\n",
      "        /'\\_   _/`\\\r\n",
      "        \\___)=(___/\r\n",
      "        \r\n",
      "        \r\n"
     ]
    }
   ],
   "source": [
    "! cd ~/pipenv-example &&\\\n",
    "  pipenv run tuxsay"
   ]
  },
  {
   "cell_type": "code",
   "execution_count": 215,
   "metadata": {
    "slideshow": {
     "slide_type": "slide"
    }
   },
   "outputs": [
    {
     "name": "stdout",
     "output_type": "stream",
     "text": [
      "Putting Tux Back"
     ]
    }
   ],
   "source": [
    "! printf -- 'Putting Tux Back'\n",
    "! cd ~/pipenv-example && sed -i'' 's/cowsay.*(/cowsay\\.tux(/' ~/pipenv-example/tuxsay.py"
   ]
  },
  {
   "cell_type": "markdown",
   "metadata": {
    "slideshow": {
     "slide_type": "slide"
    }
   },
   "source": [
    "### Dependency Resolution"
   ]
  },
  {
   "cell_type": "code",
   "execution_count": null,
   "metadata": {
    "scrolled": true,
    "slideshow": {
     "slide_type": "fragment"
    }
   },
   "outputs": [],
   "source": [
    "! cd ~/pipenv-example &&\\\n",
    "pipenv graph"
   ]
  },
  {
   "cell_type": "markdown",
   "metadata": {
    "slideshow": {
     "slide_type": "notes"
    }
   },
   "source": [
    "Escape dep hell"
   ]
  },
  {
   "cell_type": "code",
   "execution_count": null,
   "metadata": {
    "slideshow": {
     "slide_type": "slide"
    }
   },
   "outputs": [],
   "source": [
    "! pipenv graph"
   ]
  },
  {
   "cell_type": "markdown",
   "metadata": {
    "slideshow": {
     "slide_type": "slide"
    }
   },
   "source": [
    "# And Pipx, Cuz We Can"
   ]
  },
  {
   "cell_type": "code",
   "execution_count": 224,
   "metadata": {
    "scrolled": true,
    "slideshow": {
     "slide_type": "fragment"
    }
   },
   "outputs": [
    {
     "name": "stdout",
     "output_type": "stream",
     "text": [
      "Installing to existing directory '/home/demo/.local/pipx/venvs/tuxsay'\n",
      "  installed package \u001b[1mtuxsay\u001b[0m \u001b[1m0.0.2\u001b[0m, Python 3.9.0a4+h\n",
      "  These apps are now globally available\n",
      "    - tuxsay\n",
      "done! ✨ 🌟 ✨\n"
     ]
    }
   ],
   "source": [
    "! pipx install ~/pipenv-example"
   ]
  },
  {
   "cell_type": "code",
   "execution_count": 227,
   "metadata": {
    "slideshow": {
     "slide_type": "slide"
    }
   },
   "outputs": [
    {
     "name": "stdout",
     "output_type": "stream",
     "text": [
      "  _______________________________________________\r\n",
      "< Never eat more than you can lift. -- Miss Piggy >\r\n",
      "  ===============================================\r\n",
      "                                                    \\\r\n",
      "                                                     \\\r\n",
      "                                                      \\                                                \r\n",
      "                                                       .--.\r\n",
      "                                                      |o_o |\r\n",
      "                                                      |:_/ |\r\n",
      "                                                     //   \\ \\\r\n",
      "                                                    (|     | )\r\n",
      "                                                   /'\\_   _/`\\\r\n",
      "                                                   \\___)=(___/\r\n",
      "                                                   \r\n",
      "                                                   \r\n"
     ]
    }
   ],
   "source": [
    "! tuxsay $(fortune)"
   ]
  },
  {
   "cell_type": "markdown",
   "metadata": {
    "slideshow": {
     "slide_type": "slide"
    }
   },
   "source": [
    "# Venvs Are An Implentation Detail!"
   ]
  },
  {
   "cell_type": "markdown",
   "metadata": {
    "slideshow": {
     "slide_type": "slide"
    }
   },
   "source": [
    "## Pipenv and Pipx\n",
    "![porcelain](img/plumbing.jpg)"
   ]
  },
  {
   "cell_type": "markdown",
   "metadata": {
    "slideshow": {
     "slide_type": "notes"
    }
   },
   "source": [
    "* git commands porcelain\n",
    "* venv is plumbing"
   ]
  },
  {
   "cell_type": "code",
   "execution_count": 228,
   "metadata": {
    "scrolled": true,
    "slideshow": {
     "slide_type": "slide"
    }
   },
   "outputs": [
    {
     "name": "stdout",
     "output_type": "stream",
     "text": [
      "  ______________________\r\n",
      "< Python is Great Again! >\r\n",
      "  ======================\r\n",
      "                           \\\r\n",
      "                            \\\r\n",
      "                             \\                       \r\n",
      "                              .--.\r\n",
      "                             |o_o |\r\n",
      "                             |:_/ |\r\n",
      "                            //   \\ \\\r\n",
      "                           (|     | )\r\n",
      "                          /'\\_   _/`\\\r\n",
      "                          \\___)=(___/\r\n",
      "                          \r\n",
      "                          \r\n"
     ]
    }
   ],
   "source": [
    "! tuxsay Python is Great Again!"
   ]
  },
  {
   "cell_type": "markdown",
   "metadata": {
    "slideshow": {
     "slide_type": "slide"
    }
   },
   "source": [
    "# Criticts and Critiques\n",
    "![You Suck](http://www.quickmeme.com/img/35/359b162052a6a1ab3eca8f54f858e14156ca3f1f0b9b7b31c7aa258f80a57426.jpg)"
   ]
  },
  {
   "cell_type": "markdown",
   "metadata": {
    "slideshow": {
     "slide_type": "slide"
    }
   },
   "source": [
    "## Pipenv Sucks\n",
    "* [Pipenv promises a lot delivers very little](https://chriswarrick.com/blog/2018/07/17/pipenv-promises-a-lot-delivers-very-little/) - Chris Warrick, 2018\n",
    "* [RIP Pipenv](https://medium.com/telnyx-engineering/rip-pipenv-tried-too-hard-do-what-you-need-with-pip-tools-d500edc161d4) - Nick Timkovich, 2020"
   ]
  },
  {
   "cell_type": "markdown",
   "metadata": {
    "slideshow": {
     "slide_type": "slide"
    }
   },
   "source": [
    "* Mostly no longer issues\n",
    "* execpt buggy dependancy resolution\n",
    "* no release in over a year\n",
    "* run off of master"
   ]
  },
  {
   "cell_type": "markdown",
   "metadata": {
    "slideshow": {
     "slide_type": "slide"
    }
   },
   "source": [
    "## Just Use Poetry\n",
    "\n",
    "![Poetry](https://python-poetry.org/images/logo-origami.svg)"
   ]
  },
  {
   "cell_type": "markdown",
   "metadata": {
    "slideshow": {
     "slide_type": "slide"
    }
   },
   "source": [
    "### Not Solving the Same Problem\n",
    "\n",
    "> a tool for dependency management and packaging\n",
    "\n",
    "&ndash; https://python-poetry.org/docs/"
   ]
  },
  {
   "cell_type": "markdown",
   "metadata": {
    "slideshow": {
     "slide_type": "notes"
    }
   },
   "source": [
    "* Pipenv is not a packaging tool\n",
    "* generic venv tool"
   ]
  },
  {
   "cell_type": "markdown",
   "metadata": {
    "slideshow": {
     "slide_type": "slide"
    }
   },
   "source": [
    "## Pipenv Has\n",
    "* SCM Versioning\n",
    "* Wide IDE Support ([VSCode](https://github.com/microsoft/vscode-python/issues/8372), [PyCharm](https://youtrack.jetbrains.com/issue/PY-30702))\n",
    "* No project adoption requirements\n",
    "* Arbitarty venv creation"
   ]
  },
  {
   "cell_type": "markdown",
   "metadata": {
    "slideshow": {
     "slide_type": "slide"
    }
   },
   "source": [
    "## No Editable Install w/ Pip"
   ]
  },
  {
   "cell_type": "code",
   "execution_count": 232,
   "metadata": {
    "slideshow": {
     "slide_type": "fragment"
    }
   },
   "outputs": [
    {
     "name": "stdout",
     "output_type": "stream",
     "text": [
      "\n",
      "[RuntimeError]\n",
      "Destination /home/demo/project/presentation/poetry-example exists and is not empty\n"
     ]
    },
    {
     "name": "stderr",
     "output_type": "stream",
     "text": [
      "ERROR: File \"setup.py\" not found. Directory cannot be installed in editable mode: /home/demo/project/presentation/poetry-example\n",
      "(A \"pyproject.toml\" file was found, but editable mode currently requires a setup.py based build.)\n"
     ]
    }
   ],
   "source": [
    "%%bash\n",
    "poetry new poetry-example\n",
    "cd poetry-example\n",
    "pip install -e . || exit 0"
   ]
  },
  {
   "cell_type": "markdown",
   "metadata": {
    "slideshow": {
     "slide_type": "notes"
    }
   },
   "source": [
    "* not for setuptools projects\n",
    "* poetry uses pip and setuptools under the hood\n",
    "* poetry's dep resolution is better"
   ]
  },
  {
   "cell_type": "markdown",
   "metadata": {
    "slideshow": {
     "slide_type": "slide"
    }
   },
   "source": [
    "## My Solution\n",
    "* Uses PyPA recommended tools\n",
    "* Works with core Python libs and tools\n",
    "* Workshop at PyCon 2020 teaching this setup"
   ]
  },
  {
   "cell_type": "markdown",
   "metadata": {
    "slideshow": {
     "slide_type": "slide"
    }
   },
   "source": [
    "# Python Is Great Again\n",
    "![Python Kiss](img/snake-kiss.png)"
   ]
  },
  {
   "cell_type": "markdown",
   "metadata": {
    "slideshow": {
     "slide_type": "slide"
    }
   },
   "source": [
    "## Well It's Getting Better\n",
    "\n",
    "* `pyenv`: Py Version Managiment\n",
    "* Venv abstacted away\n",
    "  * `pipx`: install and running applications\n",
    "  * `pipenv`: development environment"
   ]
  },
  {
   "cell_type": "markdown",
   "metadata": {
    "slideshow": {
     "slide_type": "slide"
    }
   },
   "source": [
    "## Not Perfect\n",
    "* Pipev releases \n",
    "* Pip editble installs w/o setup.py"
   ]
  },
  {
   "cell_type": "markdown",
   "metadata": {
    "slideshow": {
     "slide_type": "slide"
    }
   },
   "source": [
    "## Questions?\n",
    "\n",
    "* Twitter: @digitalr00ts\n",
    "* Github: CMeza99 & digitalr00ts\n",
    "\n",
    "`EOFError: EOF when reading a line`"
   ]
  }
 ],
 "metadata": {
  "celltoolbar": "Slideshow",
  "kernelspec": {
   "display_name": "Python 3",
   "language": "python",
   "name": "python3"
  },
  "language_info": {
   "codemirror_mode": {
    "name": "ipython",
    "version": 3
   },
   "file_extension": ".py",
   "mimetype": "text/x-python",
   "name": "python",
   "nbconvert_exporter": "python",
   "pygments_lexer": "ipython3",
   "version": "3.6.9"
  },
  "livereveal": {
   "theme": "sky"
  },
  "pycharm": {
   "stem_cell": {
    "cell_type": "raw",
    "metadata": {
     "collapsed": false
    },
    "source": []
   }
  }
 },
 "nbformat": 4,
 "nbformat_minor": 1
}
