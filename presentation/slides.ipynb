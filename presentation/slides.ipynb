{
 "cells": [
  {
   "cell_type": "markdown",
   "metadata": {
    "slideshow": {
     "slide_type": "slide"
    }
   },
   "source": [
    "# Make Python Great Again\n",
    "![Don't Thread On Me](img/dont-thread-on-me.png)"
   ]
  },
  {
   "cell_type": "markdown",
   "metadata": {
    "slideshow": {
     "slide_type": "notes"
    }
   },
   "source": [
    "* if you're like me,\n",
    "* you think Python is great.\n",
    "* But then Python stabs you in the back\n",
    "* And things begin to break."
   ]
  },
  {
   "cell_type": "markdown",
   "metadata": {
    "slideshow": {
     "slide_type": "slide"
    }
   },
   "source": [
    "\n",
    "## Difficulties\n",
    "* Multiple Python Versions\n",
    "* Application and Project Isolation\n",
    "* Package and Dependency Management"
   ]
  },
  {
   "cell_type": "markdown",
   "metadata": {
    "slideshow": {
     "slide_type": "notes"
    }
   },
   "source": [
    "* first part of a series\n",
    "* tools\n",
    "* workflow\n",
    "* live code\n",
    "* demo heavy\n",
    "* assumes pip - not conda"
   ]
  },
  {
   "cell_type": "markdown",
   "metadata": {
    "slideshow": {
     "slide_type": "slide"
    }
   },
   "source": [
    "# But First,\n",
    "# Python Is Great!"
   ]
  },
  {
   "cell_type": "markdown",
   "metadata": {
    "slideshow": {
     "slide_type": "notes"
    }
   },
   "source": [
    "* b4 again,\n",
    "* it was great right?"
   ]
  },
  {
   "cell_type": "markdown",
   "metadata": {
    "slideshow": {
     "slide_type": "slide"
    }
   },
   "source": [
    "## Easy to Learn\n",
    " <img\n",
    "     src=\"img/i-so-good.jpg\"\n",
    "     alt=\"Python is Easy\"\n",
    "     style=\"height:55vh\" />"
   ]
  },
  {
   "cell_type": "markdown",
   "metadata": {
    "pycharm": {
     "name": "#%% md\n"
    },
    "slideshow": {
     "slide_type": "slide"
    }
   },
   "source": [
    "## import antigravity\n",
    " <img\n",
    "     src=\"img/import-antigravity.png\"\n",
    "     alt=\"xkcd.com/353\"\n",
    "     style=\"height:60vh; border:none\" />\n",
    "\n",
    "<small><sub>[xkcd.com/353](https://xkcd.com/353/)</sub></small>"
   ]
  },
  {
   "cell_type": "markdown",
   "metadata": {
    "pycharm": {
     "name": "#%% md\n"
    },
    "slideshow": {
     "slide_type": "notes"
    }
   },
   "source": [
    "thriving ecosystem of modules"
   ]
  },
  {
   "cell_type": "markdown",
   "metadata": {
    "slideshow": {
     "slide_type": "slide"
    }
   },
   "source": [
    "## Python.org\n",
    "\n",
    "> lets you work quickly and integrate systems more effectively\n",
    "\n",
    "&ndash; [python.org](https://python.org)"
   ]
  },
  {
   "cell_type": "markdown",
   "metadata": {
    "slideshow": {
     "slide_type": "slide"
    }
   },
   "source": [
    "# Python and Me"
   ]
  },
  {
   "cell_type": "markdown",
   "metadata": {
    "slideshow": {
     "slide_type": "slide"
    }
   },
   "source": [
    "## Managing CDN Infrastructure\n",
    "<div style=\"white-space:nowrap; width: 60vh; margin:auto\">\n",
    "<div style=\"float: left; text-align: center\">\n",
    "    <img\n",
    "     src=\"img/openstack.svg\"\n",
    "     alt=\"OpenStack\"\n",
    "     style=\"height:15vh; border: none\" />\n",
    "    <h5>OpenStack</h5>\n",
    "</div>\n",
    "<div style=\"float: right; text-align: center\">\n",
    "<img\n",
    "     src=\"img/saltstack.svg\"\n",
    "     alt=\"SaltStack\"\n",
    "     style=\"height:15vh; border: none\"/>\n",
    "    <h5>SaltStack</h5>\n",
    "</div>\n",
    "</div>"
   ]
  },
  {
   "cell_type": "markdown",
   "metadata": {
    "slideshow": {
     "slide_type": "slide"
    }
   },
   "source": [
    "## Compliance Enforcement\n",
    "\n",
    "<div style=\"white-space:nowrap; width: 60vh; margin:auto; white-space:nowrap\">\n",
    "<div style=\"float: left; text-align: center\">\n",
    "    <img\n",
    "     src=\"img/boto3.png\"\n",
    "     alt=\"Boto3\"\n",
    "     style=\"height:15vh; border: none\" />\n",
    "    <h5>Boto3</h5>\n",
    "</div>\n",
    "<div style=\"float: right; text-align: center\">\n",
    "<img\n",
    "     src=\"img/cloud-custodian.svg\"\n",
    "     alt=\"Cloud Custodian\"\n",
    "     style=\"height:15vh; border: none\"/>\n",
    "    <h5>Cloud Custodian</h5>\n",
    "</div>\n",
    "</div>"
   ]
  },
  {
   "cell_type": "markdown",
   "metadata": {
    "slideshow": {
     "slide_type": "slide"
    }
   },
   "source": [
    "## This Presentation\n",
    "## Is Created With Python!"
   ]
  },
  {
   "cell_type": "code",
   "execution_count": 1,
   "metadata": {
    "pycharm": {
     "is_executing": false,
     "name": "#%%\n"
    },
    "slideshow": {
     "slide_type": "fragment"
    }
   },
   "outputs": [
    {
     "name": "stdout",
     "output_type": "stream",
     "text": [
      "Python 3.9.0a4+ (heads/master:85cf1d5, Mar  5 2020, 08:24:57) \n",
      "Type 'copyright', 'credits' or 'license' for more information\n",
      "IPython 7.13.0 -- An enhanced Interactive Python. Type '?' for help.\n"
     ]
    }
   ],
   "source": [
    "get_ipython().show_banner()"
   ]
  },
  {
   "cell_type": "markdown",
   "metadata": {
    "slideshow": {
     "slide_type": "slide"
    }
   },
   "source": [
    "# Python is Fun Too!"
   ]
  },
  {
   "cell_type": "markdown",
   "metadata": {
    "slideshow": {
     "slide_type": "slide"
    }
   },
   "source": [
    "## Lets Make A Meme"
   ]
  },
  {
   "cell_type": "code",
   "execution_count": 2,
   "metadata": {
    "pycharm": {
     "is_executing": false,
     "name": "#%%\n"
    },
    "slideshow": {
     "slide_type": "fragment"
    }
   },
   "outputs": [],
   "source": [
    "from base64 import b64decode\n",
    "from PIL import Image, ImageDraw, ImageFont\n",
    "\n",
    "text = b64decode(b\"UHl0aG9uIGlzIGdyZWF0Li4uClVudGlsIGl0IGlzbid0Lg==\").decode()\n",
    "img = Image.open(\"image.png\")\n",
    "font = ImageFont.truetype(\"FreeSansBold.ttf\", size=48)\n",
    "ImageDraw.Draw(img).multiline_text(\n",
    "    (115,300), text, align=\"center\", font=font,\n",
    "    fill=(255,255,255,255), stroke_width=7, stroke_fill=(0,0,0,0))"
   ]
  },
  {
   "cell_type": "code",
   "execution_count": 3,
   "metadata": {
    "pycharm": {
     "is_executing": false,
     "name": "#%%\n"
    },
    "slideshow": {
     "slide_type": "slide"
    }
   },
   "outputs": [
    {
     "data": {
      "image/png": "[encoded data removed]",
      "text/plain": [
       "<PIL.PngImagePlugin.PngImageFile image mode=RGB size=640x410 at 0x7F1800517460>"
      ]
     },
     "metadata": {},
     "output_type": "display_data"
    }
   ],
   "source": [
    "from IPython.display import display\n",
    "display(img)"
   ]
  },
  {
   "cell_type": "markdown",
   "metadata": {
    "slideshow": {
     "slide_type": "slide"
    }
   },
   "source": [
    "# Using Python...\n",
    " <img\n",
    "     src=\"img/python-env.png\"\n",
    "     alt=\"xkcd.com/1987\"\n",
    "     style=\"height:60vh; border:none\" />\n",
    "\n",
    "<small><sub>[xkcd.com/1987](https://xkcd.com/1987/)</sub></small>"
   ]
  },
  {
   "cell_type": "markdown",
   "metadata": {
    "slideshow": {
     "slide_type": "notes"
    }
   },
   "source": [
    "April 2018"
   ]
  },
  {
   "cell_type": "markdown",
   "metadata": {
    "slideshow": {
     "slide_type": "slide"
    }
   },
   "source": [
    "## Then Python Breaks\n",
    "\n",
    "* Inconsistencies in prod, laptops, etc\n",
    "* Python apps work then don't\n",
    "* Dependency issues\n",
    "* System Python gets borked"
   ]
  },
  {
   "cell_type": "markdown",
   "metadata": {
    "slideshow": {
     "slide_type": "notes"
    }
   },
   "source": [
    "* Dev vs Prod\n",
    "* Runs on my laptop\n",
    "* Python is broken"
   ]
  },
  {
   "cell_type": "markdown",
   "metadata": {
    "slideshow": {
     "slide_type": "slide"
    }
   },
   "source": [
    "# Ugh\n",
    "<img\n",
    "     src=\"img/sad-snake.jpg\"\n",
    "     alt=\"Sad Snake\"\n",
    "     style=\"height:60vh; border:none\" />"
   ]
  },
  {
   "cell_type": "markdown",
   "metadata": {
    "slideshow": {
     "slide_type": "slide"
    }
   },
   "source": [
    "# These Problems\n",
    "# Are Not Unique"
   ]
  },
  {
   "cell_type": "markdown",
   "metadata": {
    "slideshow": {
     "slide_type": "fragment"
    }
   },
   "source": [
    "<div style=\"white-space:nowrap; width: 50vh; margin:auto\">\n",
    "<img\n",
    "     src=\"img/ruby.svg\"\n",
    "     alt=\"Ruby\"\n",
    "     style=\"height:15vh; float: left; border: none\"\n",
    "/>\n",
    "<img\n",
    "     src=\"img/javascript.svg\"\n",
    "     alt=\"Javascript\"\n",
    "     style=\"height:15vh; float: right; border: none\"\n",
    "/>\n",
    "</span>"
   ]
  },
  {
   "cell_type": "markdown",
   "metadata": {
    "slideshow": {
     "slide_type": "slide"
    }
   },
   "source": [
    "## Python has a Solution"
   ]
  },
  {
   "cell_type": "markdown",
   "metadata": {
    "slideshow": {
     "slide_type": "fragment"
    }
   },
   "source": [
    "<img\n",
    "     src=\"img/dev-in-prod.jpg\"\n",
    "     alt=\"Dev in Prod\"\n",
    "     style=\"height:50vh\"\n",
    "/>"
   ]
  },
  {
   "cell_type": "markdown",
   "metadata": {
    "slideshow": {
     "slide_type": "slide"
    }
   },
   "source": [
    "## Python Has Too Many Solutions\n",
    "\n",
    "* pip-tools\n",
    "* pythonbrew\n",
    "* pythonz\n",
    "* dephell\n",
    "* hatch\n",
    "* others?"
   ]
  },
  {
   "cell_type": "markdown",
   "metadata": {
    "slideshow": {
     "slide_type": "notes"
    }
   },
   "source": [
    "* I am here to help,\n",
    "* but 1st..."
   ]
  },
  {
   "cell_type": "markdown",
   "metadata": {
    "slideshow": {
     "slide_type": "slide"
    }
   },
   "source": [
    "# Python Can Be\n",
    "# Great Again"
   ]
  },
  {
   "cell_type": "markdown",
   "metadata": {
    "slideshow": {
     "slide_type": "slide"
    }
   },
   "source": [
    "## My Workflow Toolbox\n",
    "\n",
    "* Pyenv\n",
    "* Pipenv\n",
    "* Pipx"
   ]
  },
  {
   "cell_type": "markdown",
   "metadata": {
    "slideshow": {
     "slide_type": "slide"
    }
   },
   "source": [
    "# So What's Not So Great:\n",
    "# Managing the Pythons"
   ]
  },
  {
   "cell_type": "markdown",
   "metadata": {
    "slideshow": {
     "slide_type": "slide"
    }
   },
   "source": [
    "## So Many Versions\n",
    "\n",
    "* type-hints 3.5+\n",
    "* f-strings 3.6+\n",
    "* dataclasses 3.7+\n",
    "* walrus operator 3.8+"
   ]
  },
  {
   "cell_type": "markdown",
   "metadata": {
    "slideshow": {
     "slide_type": "notes"
    }
   },
   "source": [
    "assignment expression"
   ]
  },
  {
   "cell_type": "markdown",
   "metadata": {
    "slideshow": {
     "slide_type": "slide"
    }
   },
   "source": [
    "## Python 2 vs 3\n",
    "\n",
    "> Efforts to port calibre to python 3 are ongoing.\n",
    "\n",
    "&ndash; [Calibre README.python3](https://github.com/kovidgoyal/calibre/blob/master/README.python3)"
   ]
  },
  {
   "cell_type": "markdown",
   "metadata": {
    "slideshow": {
     "slide_type": "notes"
    }
   },
   "source": [
    "Thought this was over?"
   ]
  },
  {
   "cell_type": "markdown",
   "metadata": {
    "slideshow": {
     "slide_type": "slide"
    }
   },
   "source": [
    "## Breaking System Python\n",
    "\n",
    "* Belongs to the system\n",
    "* Controlled by the system\n",
    "* **Don't** break it!"
   ]
  },
  {
   "cell_type": "markdown",
   "metadata": {
    "slideshow": {
     "slide_type": "slide"
    }
   },
   "source": [
    "# Make Python Better:\n",
    "## Managing Python Versions\n",
    "<!-- https://realpython.com/intro-to-pyenv/ -->\n",
    " <img\n",
    "     src=\"img/pyenv.png\"\n",
    "     alt=\"Pyenv\"\n",
    "     style=\"height:45vh\" />"
   ]
  },
  {
   "cell_type": "markdown",
   "metadata": {
    "slideshow": {
     "slide_type": "slide"
    }
   },
   "source": [
    "# Pyenv:\n",
    "## Simple Python Version Management\n",
    "\n",
    "* Single interface to install various Py builds\n",
    "* Easily switch Python interpetures\n",
    "  * Per-user\n",
    "  * Per-project\n",
    "  * Tempararly override\n"
   ]
  },
  {
   "cell_type": "markdown",
   "metadata": {
    "slideshow": {
     "slide_type": "notes"
    }
   },
   "source": [
    "* fork of rbenv"
   ]
  },
  {
   "cell_type": "markdown",
   "metadata": {
    "slideshow": {
     "slide_type": "slide"
    }
   },
   "source": [
    "# Pyenv Demo\n",
    "## <span style=\"color:orange\">😧 🤞</span>"
   ]
  },
  {
   "cell_type": "markdown",
   "metadata": {
    "slideshow": {
     "slide_type": "slide"
    }
   },
   "source": [
    "### Install Any Python Version"
   ]
  },
  {
   "cell_type": "code",
   "execution_count": 4,
   "metadata": {
    "slideshow": {
     "slide_type": "fragment"
    }
   },
   "outputs": [
    {
     "name": "stdout",
     "output_type": "stream",
     "text": [
      "  3.7.4\r\n",
      "  3.7.5\r\n",
      "  3.7.5rc1\r\n",
      "  3.7.6\r\n",
      "  3.8.0\r\n",
      "  3.8-dev\r\n",
      "  3.8.1\r\n",
      "  3.8.2\r\n",
      "  3.9.0a4\r\n",
      "  3.9-dev\r\n"
     ]
    }
   ],
   "source": [
    "! pyenv install --list | grep '^ *3' | tail"
   ]
  },
  {
   "cell_type": "markdown",
   "metadata": {
    "slideshow": {
     "slide_type": "slide"
    }
   },
   "source": [
    "### What's Already Installed?"
   ]
  },
  {
   "cell_type": "code",
   "execution_count": 5,
   "metadata": {
    "pycharm": {
     "is_executing": false,
     "name": "#%%\n"
    },
    "slideshow": {
     "slide_type": "fragment"
    }
   },
   "outputs": [
    {
     "name": "stdout",
     "output_type": "stream",
     "text": [
      "  system\n",
      "  2.7.17\n",
      "* 3.7.6 (set by /home/demo/.pyenv/version)\n",
      "* 3.9-dev (set by /home/demo/.pyenv/version)\n",
      "* pypy3.6-7.3.0 (set by /home/demo/.pyenv/version)\n"
     ]
    }
   ],
   "source": [
    "! pyenv versions"
   ]
  },
  {
   "cell_type": "markdown",
   "metadata": {
    "slideshow": {
     "slide_type": "slide"
    }
   },
   "source": [
    "### So Which Python Executes?"
   ]
  },
  {
   "cell_type": "code",
   "execution_count": 6,
   "metadata": {
    "slideshow": {
     "slide_type": "fragment"
    }
   },
   "outputs": [
    {
     "name": "stdout",
     "output_type": "stream",
     "text": [
      "Python 3.9.0a4+\n"
     ]
    }
   ],
   "source": [
    "%%bash -l\n",
    "python3 --version"
   ]
  },
  {
   "cell_type": "markdown",
   "metadata": {
    "slideshow": {
     "slide_type": "slide"
    }
   },
   "source": [
    "### Why?"
   ]
  },
  {
   "cell_type": "code",
   "execution_count": 7,
   "metadata": {
    "slideshow": {
     "slide_type": "fragment"
    }
   },
   "outputs": [
    {
     "name": "stdout",
     "output_type": "stream",
     "text": [
      "3.9-dev (set by /home/demo/.pyenv/version)\r\n",
      "pypy3.6-7.3.0 (set by /home/demo/.pyenv/version)\r\n",
      "3.7.6 (set by /home/demo/.pyenv/version)\r\n"
     ]
    }
   ],
   "source": [
    "! pyenv version"
   ]
  },
  {
   "cell_type": "markdown",
   "metadata": {
    "slideshow": {
     "slide_type": "slide"
    }
   },
   "source": [
    "### The Other Pythons?"
   ]
  },
  {
   "cell_type": "code",
   "execution_count": 8,
   "metadata": {
    "slideshow": {
     "slide_type": "fragment"
    }
   },
   "outputs": [
    {
     "name": "stdout",
     "output_type": "stream",
     "text": [
      "Python 3.7.6\n"
     ]
    }
   ],
   "source": [
    "%%bash -l\n",
    "python3.7 --version"
   ]
  },
  {
   "cell_type": "code",
   "execution_count": 9,
   "metadata": {
    "slideshow": {
     "slide_type": "fragment"
    }
   },
   "outputs": [
    {
     "name": "stderr",
     "output_type": "stream",
     "text": [
      "pyenv: python2: command not found\n",
      "\n",
      "The `python2' command exists in these Python versions:\n",
      "  2.7.17\n",
      "\n"
     ]
    }
   ],
   "source": [
    "%%bash -l\n",
    "python2 --version || exit 0"
   ]
  },
  {
   "cell_type": "markdown",
   "metadata": {
    "slideshow": {
     "slide_type": "slide"
    }
   },
   "source": [
    "### Override Python Versions"
   ]
  },
  {
   "cell_type": "code",
   "execution_count": 10,
   "metadata": {
    "slideshow": {
     "slide_type": "fragment"
    }
   },
   "outputs": [
    {
     "name": "stdout",
     "output_type": "stream",
     "text": [
      "  system\n",
      "* 2.7.17 (set by PYENV_VERSION environment variable)\n",
      "* 3.7.6 (set by PYENV_VERSION environment variable)\n",
      "* 3.9-dev (set by PYENV_VERSION environment variable)\n",
      "  pypy3.6-7.3.0\n"
     ]
    }
   ],
   "source": [
    "%%bash -l\n",
    "\n",
    "pyenv shell 2.7.17 3.7.6 3.9-dev\n",
    "pyenv versions"
   ]
  },
  {
   "cell_type": "markdown",
   "metadata": {
    "slideshow": {
     "slide_type": "slide"
    }
   },
   "source": [
    "### Override Python Versions"
   ]
  },
  {
   "cell_type": "code",
   "execution_count": 12,
   "metadata": {
    "slideshow": {
     "slide_type": "fragment"
    }
   },
   "outputs": [
    {
     "name": "stdout",
     "output_type": "stream",
     "text": [
      "Python 2.7.17\n",
      "Python 3.7.6\n"
     ]
    }
   ],
   "source": [
    "%%bash -l\n",
    "pyenv shell 2.7.17 3.7.6 3.9-dev\n",
    "\n",
    "python2 --version 2>&1\n",
    "python3 --version"
   ]
  },
  {
   "cell_type": "markdown",
   "metadata": {
    "slideshow": {
     "slide_type": "slide"
    }
   },
   "source": [
    "### Setting A Versions Per-Path"
   ]
  },
  {
   "cell_type": "code",
   "execution_count": 13,
   "metadata": {
    "slideshow": {
     "slide_type": "fragment"
    }
   },
   "outputs": [
    {
     "name": "stdout",
     "output_type": "stream",
     "text": [
      "Python 3.7.6\n"
     ]
    }
   ],
   "source": [
    "%%bash -l\n",
    "pyenv local 3.7.6 2.7.17 3.9-dev\n",
    "python3 --version"
   ]
  },
  {
   "cell_type": "markdown",
   "metadata": {
    "slideshow": {
     "slide_type": "slide"
    }
   },
   "source": [
    "### Changing Paths"
   ]
  },
  {
   "cell_type": "code",
   "execution_count": 14,
   "metadata": {
    "slideshow": {
     "slide_type": "fragment"
    }
   },
   "outputs": [
    {
     "name": "stdout",
     "output_type": "stream",
     "text": [
      "Python 3.7.6\n",
      "Python 3.9.0a4+\n"
     ]
    }
   ],
   "source": [
    "%%bash -l\n",
    "python3 --version\n",
    "cd /\n",
    "python3 --version"
   ]
  },
  {
   "cell_type": "markdown",
   "metadata": {
    "slideshow": {
     "slide_type": "slide"
    }
   },
   "source": [
    "### Its Magic"
   ]
  },
  {
   "cell_type": "code",
   "execution_count": 15,
   "metadata": {
    "slideshow": {
     "slide_type": "fragment"
    }
   },
   "outputs": [
    {
     "name": "stdout",
     "output_type": "stream",
     "text": [
      "3.7.6\r\n",
      "2.7.17\r\n",
      "3.9-dev\r\n"
     ]
    }
   ],
   "source": [
    "! cat .python-version"
   ]
  },
  {
   "cell_type": "markdown",
   "metadata": {
    "slideshow": {
     "slide_type": "notes"
    }
   },
   "source": [
    ".ruby-version"
   ]
  },
  {
   "cell_type": "markdown",
   "metadata": {
    "slideshow": {
     "slide_type": "slide"
    }
   },
   "source": [
    "### Undo"
   ]
  },
  {
   "cell_type": "code",
   "execution_count": 16,
   "metadata": {
    "slideshow": {
     "slide_type": "fragment"
    }
   },
   "outputs": [
    {
     "name": "stderr",
     "output_type": "stream",
     "text": [
      "pyenv: no local version configured for this directory\n"
     ]
    }
   ],
   "source": [
    "%%bash -l \n",
    "pyenv local --unset\n",
    "pyenv local || exit 0"
   ]
  },
  {
   "cell_type": "markdown",
   "metadata": {
    "slideshow": {
     "slide_type": "slide"
    }
   },
   "source": [
    "# Python is Better!\n",
    "## Don't Fear Too Many Snakes\n",
    "<img\n",
    "     src=\"img/all-the-snakes.jpg\"\n",
    "     alt=\"All The Snakes\"\n",
    "     style=\"height:40vh\"\n",
    "/>"
   ]
  },
  {
   "cell_type": "markdown",
   "metadata": {
    "slideshow": {
     "slide_type": "slide"
    }
   },
   "source": [
    "## Use All The Pythons\n",
    "\n",
    "* Support any version requirement\n",
    "* Test multiple versions\n",
    "* Switch between interpreters\n",
    "* Create virtual enviroments with any version"
   ]
  },
  {
   "cell_type": "markdown",
   "metadata": {
    "slideshow": {
     "slide_type": "slide"
    }
   },
   "source": [
    "# But, More Thats\n",
    "# Not So Great"
   ]
  },
  {
   "cell_type": "markdown",
   "metadata": {
    "slideshow": {
     "slide_type": "slide"
    }
   },
   "source": [
    "# Dependency Conflicts\n",
    "\n",
    "![One does not simply `pip install`](img/no-pip-install.jpg)"
   ]
  },
  {
   "cell_type": "markdown",
   "metadata": {
    "slideshow": {
     "slide_type": "slide"
    }
   },
   "source": [
    "## Python GnuPG Example"
   ]
  },
  {
   "cell_type": "code",
   "execution_count": 17,
   "metadata": {
    "slideshow": {
     "slide_type": "fragment"
    }
   },
   "outputs": [
    {
     "name": "stdout",
     "output_type": "stream",
     "text": [
      "Package           Version\r\n",
      "----------------- -------\r\n",
      "python-gnupg      0.4.5  \r\n"
     ]
    }
   ],
   "source": [
    "! pip list | grep -E '(gnupg|Version$|^-)'"
   ]
  },
  {
   "cell_type": "code",
   "execution_count": 18,
   "metadata": {
    "slideshow": {
     "slide_type": "fragment"
    }
   },
   "outputs": [
    {
     "name": "stdout",
     "output_type": "stream",
     "text": [
      "gnupg.__name__='gnupg'\n",
      "gnupg.__version__='0.4.5'\n"
     ]
    }
   ],
   "source": [
    "import gnupg\n",
    "print(f\"{gnupg.__name__=}\\n{gnupg.__version__=}\")"
   ]
  },
  {
   "cell_type": "markdown",
   "metadata": {
    "slideshow": {
     "slide_type": "slide"
    }
   },
   "source": [
    "### Another `import gnupg`"
   ]
  },
  {
   "cell_type": "code",
   "execution_count": 19,
   "metadata": {
    "slideshow": {
     "slide_type": "fragment"
    }
   },
   "outputs": [
    {
     "name": "stdout",
     "output_type": "stream",
     "text": [
      "Processing /home/demo/.cache/pip/wheels/20/7e/30/7d702acd6a1e89911301cd9dbf9cb9870ca80c0e64bc2cde23/gnupg-2.3.1-py3-none-any.whl\n",
      "Requirement already satisfied: psutil>=1.2.1 in /home/demo/.local/share/virtualenvs/project-sz1wRXxf/lib/python3.9/site-packages (from gnupg) (5.7.0)\n",
      "Installing collected packages: gnupg\n",
      "Successfully installed gnupg-2.3.1\n",
      "\n",
      "Package           Version\n",
      "----------------- -------\n",
      "gnupg             2.3.1  \n",
      "python-gnupg      0.4.5  \n"
     ]
    }
   ],
   "source": [
    "! pip install gnupg; printf '\\n'\n"
   ]
  },
  {
   "cell_type": "markdown",
   "metadata": {
    "slideshow": {
     "slide_type": "slide"
    }
   },
   "source": [
    "### GnuPG Libraries?!"
   ]
  },
  {
   "cell_type": "code",
   "execution_count": 20,
   "metadata": {
    "slideshow": {
     "slide_type": "fragment"
    }
   },
   "outputs": [
    {
     "name": "stdout",
     "output_type": "stream",
     "text": [
      "Package           Version\r\n",
      "----------------- -------\r\n",
      "gnupg             2.3.1  \r\n",
      "python-gnupg      0.4.5  \r\n"
     ]
    }
   ],
   "source": [
    "! pip list | grep -E '(gnupg|Version$|^-)'"
   ]
  },
  {
   "cell_type": "markdown",
   "metadata": {
    "slideshow": {
     "slide_type": "slide"
    }
   },
   "source": [
    "### Which One Will load?\n",
    "<img\n",
    "     src=\"img/confused.gif\"\n",
    "     alt=\"Confused\"\n",
    "     style=\"height:35vh\"\n",
    "/>"
   ]
  },
  {
   "cell_type": "markdown",
   "metadata": {
    "slideshow": {
     "slide_type": "slide"
    }
   },
   "source": [
    "### Lets Find Out"
   ]
  },
  {
   "cell_type": "code",
   "execution_count": 21,
   "metadata": {
    "slideshow": {
     "slide_type": "fragment"
    }
   },
   "outputs": [
    {
     "name": "stdout",
     "output_type": "stream",
     "text": [
      "gnupg.__name__='gnupg'\n",
      "gnupg.__version__='2.3.1'\n"
     ]
    }
   ],
   "source": [
    "import contextlib, importlib, gnupg\n",
    "with contextlib.suppress(NameError): importlib.reload(gnupg)\n",
    "print(f\"{gnupg.__name__=}\\n{gnupg.__version__=}\")"
   ]
  },
  {
   "cell_type": "markdown",
   "metadata": {
    "slideshow": {
     "slide_type": "slide"
    }
   },
   "source": [
    "### 🤔 Does System Python Use GnuPG?"
   ]
  },
  {
   "cell_type": "code",
   "execution_count": 22,
   "metadata": {
    "slideshow": {
     "slide_type": "fragment"
    }
   },
   "outputs": [
    {
     "name": "stdout",
     "output_type": "stream",
     "text": [
      "Package    Version\r\n",
      "---------- -------\r\n",
      "gpg        1.13.1 \r\n",
      "libcomps   0.1.14 \r\n",
      "pip        19.3.1 \r\n",
      "rpm        4.15.1 \r\n",
      "setuptools 45.2.0 \r\n"
     ]
    }
   ],
   "source": [
    "! /usr/bin/python3 -m pip list"
   ]
  },
  {
   "cell_type": "markdown",
   "metadata": {
    "slideshow": {
     "slide_type": "fragment"
    }
   },
   "source": [
    "# <span style=\"color: orange\">😱</span> <span style=\"color: brown\">💩</span>"
   ]
  },
  {
   "cell_type": "markdown",
   "metadata": {
    "slideshow": {
     "slide_type": "slide"
    }
   },
   "source": [
    "### Womp Womp\n",
    "\n",
    "<img\n",
    "     src=\"img/broken-congrats.gif\"\n",
    "     alt=\"Everything is broken\"\n",
    "     style=\"height:50vh\"\n",
    "/>"
   ]
  },
  {
   "cell_type": "markdown",
   "metadata": {
    "slideshow": {
     "slide_type": "notes"
    }
   },
   "source": [
    "saltstack"
   ]
  },
  {
   "cell_type": "markdown",
   "metadata": {
    "slideshow": {
     "slide_type": "slide"
    }
   },
   "source": [
    "## Python's Solution\n",
    "<img\n",
    "     src=\"img/venv.png\"\n",
    "     alt=\"EVirtual Environments\"\n",
    "     style=\"height:35vh; border: none\"\n",
    "/>\n"
   ]
  },
  {
   "cell_type": "markdown",
   "metadata": {
    "slideshow": {
     "slide_type": "slide"
    }
   },
   "source": [
    "# Virtual Enviroments\n",
    "## Project Isolation\n",
    "Each project has its own:\n",
    "* Interpreter\n",
    "* Set Dependencies"
   ]
  },
  {
   "cell_type": "markdown",
   "metadata": {
    "slideshow": {
     "slide_type": "slide"
    }
   },
   "source": [
    "# No So Great\n",
    "## Virtual Environments UX"
   ]
  },
  {
   "cell_type": "code",
   "execution_count": 23,
   "metadata": {
    "slideshow": {
     "slide_type": "slide"
    }
   },
   "outputs": [
    {
     "name": "stdout",
     "output_type": "stream",
     "text": [
      "/home/demo/Envs/venv-demo/bin/python3\n",
      "Package    Version\n",
      "---------- -------\n",
      "pip        19.2.3 \n",
      "setuptools 41.2.0 \n",
      "\n",
      "/home/demo/.pyenv/shims/python3\n"
     ]
    }
   ],
   "source": [
    "%%bash -l\n",
    "\n",
    "pyenv shell 3.7.6  # set desired python version\n",
    "python3 -m venv ~/Envs/venv-demo  # create venv\n",
    "source ~/Envs/venv-demo/bin/activate  # activate venv\n",
    "\n",
    "which python3  # display the activersion of python\n",
    "python3 -m pip list; printf '\\n'  # show the pkgs in venv\n",
    "\n",
    "deactivate  # turn off venv\n",
    "which python3  # not in venv"
   ]
  },
  {
   "cell_type": "markdown",
   "metadata": {
    "slideshow": {
     "slide_type": "slide"
    }
   },
   "source": [
    "## Now We Manage Venvs"
   ]
  },
  {
   "cell_type": "markdown",
   "metadata": {
    "slideshow": {
     "slide_type": "fragment"
    }
   },
   "source": [
    "<img\n",
    "     src=\"img/how-about-no.jpg\"\n",
    "     alt=\"Managing Venv\"\n",
    "     style=\"height:50vh; padding-top: 0; margin-top:0\"\n",
    "/>"
   ]
  },
  {
   "cell_type": "markdown",
   "metadata": {
    "slideshow": {
     "slide_type": "slide"
    }
   },
   "source": [
    "# Better UX\n",
    "\n",
    "* **Pipx**\\\n",
    "  installing/running applications\n",
    "* **Pipenv**\\\n",
    "  projects and development"
   ]
  },
  {
   "cell_type": "markdown",
   "metadata": {
    "slideshow": {
     "slide_type": "notes"
    }
   },
   "source": [
    "* abstract venv\n",
    "* to implementation detail"
   ]
  },
  {
   "cell_type": "markdown",
   "metadata": {
    "slideshow": {
     "slide_type": "slide"
    }
   },
   "source": [
    "### Install and Run Python Applications\n",
    "### in Isolated Environments\n",
    "<img src=\"https://raw.githubusercontent.com/pipxproject/pipx/master/logo.png\"\n",
    "     alt=\"pipx logo\"\n",
    "     style=\"height:8em; border:none\"\n",
    "/>"
   ]
  },
  {
   "cell_type": "markdown",
   "metadata": {
    "slideshow": {
     "slide_type": "slide"
    }
   },
   "source": [
    "## Pipx Demo\n",
    "## <span style=\"color:orange\">😧 🤞</span>"
   ]
  },
  {
   "cell_type": "markdown",
   "metadata": {
    "slideshow": {
     "slide_type": "slide"
    }
   },
   "source": [
    "### Install A Thing"
   ]
  },
  {
   "cell_type": "code",
   "execution_count": 24,
   "metadata": {
    "slideshow": {
     "slide_type": "fragment"
    }
   },
   "outputs": [
    {
     "name": "stdout",
     "output_type": "stream",
     "text": [
      "  installed package \u001b[1mpyjokes\u001b[0m \u001b[1m0.6.0\u001b[0m, Python 3.9.0a4+\n",
      "  These apps are now globally available\n",
      "    - pyjoke\n",
      "    - pyjokes\n",
      "done! ✨ 🌟 ✨\n"
     ]
    }
   ],
   "source": [
    "! pipx install pyjokes"
   ]
  },
  {
   "cell_type": "markdown",
   "metadata": {
    "slideshow": {
     "slide_type": "slide"
    }
   },
   "source": [
    "### Does It Work?"
   ]
  },
  {
   "cell_type": "code",
   "execution_count": 25,
   "metadata": {
    "slideshow": {
     "slide_type": "fragment"
    }
   },
   "outputs": [
    {
     "name": "stdout",
     "output_type": "stream",
     "text": [
      "Software developers like to solve problems. If there are no problems handily available, they will create their own.\r\n"
     ]
    }
   ],
   "source": [
    "! pyjoke"
   ]
  },
  {
   "cell_type": "markdown",
   "metadata": {
    "slideshow": {
     "slide_type": "slide"
    }
   },
   "source": [
    "### Where is it?"
   ]
  },
  {
   "cell_type": "code",
   "execution_count": 26,
   "metadata": {
    "slideshow": {
     "slide_type": "fragment"
    }
   },
   "outputs": [
    {
     "name": "stdout",
     "output_type": "stream",
     "text": [
      "venvs are in \u001b[1m/home/demo/.local/pipx/venvs\u001b[0m\r\n",
      "apps are exposed on your $PATH at \u001b[1m/home/demo/.local/bin\u001b[0m\r\n",
      "   package \u001b[1mpipenv\u001b[0m \u001b[1m2018.11.27.dev0\u001b[0m, Python 3.9.0a4+\r\n",
      "    - pipenv\r\n",
      "    - pipenv-resolver\r\n",
      "   package \u001b[1mpyjokes\u001b[0m \u001b[1m0.6.0\u001b[0m, Python 3.9.0a4+\r\n",
      "    - pyjoke\r\n",
      "    - pyjokes\r\n"
     ]
    }
   ],
   "source": [
    "! pipx list"
   ]
  },
  {
   "cell_type": "markdown",
   "metadata": {
    "slideshow": {
     "slide_type": "slide"
    }
   },
   "source": [
    "### Cleanup"
   ]
  },
  {
   "cell_type": "code",
   "execution_count": 27,
   "metadata": {
    "slideshow": {
     "slide_type": "fragment"
    }
   },
   "outputs": [
    {
     "name": "stdout",
     "output_type": "stream",
     "text": [
      "uninstalled pyjokes! ✨ 🌟 ✨\r\n"
     ]
    }
   ],
   "source": [
    "! pipx uninstall pyjokes"
   ]
  },
  {
   "cell_type": "code",
   "execution_count": 28,
   "metadata": {
    "slideshow": {
     "slide_type": "fragment"
    }
   },
   "outputs": [
    {
     "name": "stdout",
     "output_type": "stream",
     "text": [
      "venvs are in \u001b[1m/home/demo/.local/pipx/venvs\u001b[0m\r\n",
      "apps are exposed on your $PATH at \u001b[1m/home/demo/.local/bin\u001b[0m\r\n",
      "   package \u001b[1mpipenv\u001b[0m \u001b[1m2018.11.27.dev0\u001b[0m, Python 3.9.0a4+\r\n",
      "    - pipenv\r\n",
      "    - pipenv-resolver\r\n"
     ]
    }
   ],
   "source": [
    "! pipx list"
   ]
  },
  {
   "cell_type": "markdown",
   "metadata": {
    "slideshow": {
     "slide_type": "slide"
    }
   },
   "source": [
    "### Specify Python Interpreter"
   ]
  },
  {
   "cell_type": "code",
   "execution_count": 29,
   "metadata": {
    "slideshow": {
     "slide_type": "fragment"
    }
   },
   "outputs": [
    {
     "name": "stdout",
     "output_type": "stream",
     "text": [
      "  installed package \u001b[1mpyjokes\u001b[0m \u001b[1m0.6.0\u001b[0m, Python 3.7.6\n",
      "  These apps are now globally available\n",
      "    - pyjoke\n",
      "    - pyjokes\n",
      "done! ✨ 🌟 ✨\n"
     ]
    }
   ],
   "source": [
    "! pipx install --python python3.7 pyjokes"
   ]
  },
  {
   "cell_type": "markdown",
   "metadata": {
    "slideshow": {
     "slide_type": "slide"
    }
   },
   "source": [
    "<img\n",
    "     src=\"img/but-wait-theres-more.gif\"\n",
    "     alt=\"But Wait There's More\"\n",
    "     style=\"height:50vh\"\n",
    "/>"
   ]
  },
  {
   "cell_type": "markdown",
   "metadata": {
    "slideshow": {
     "slide_type": "slide"
    }
   },
   "source": [
    "## Ephemeral Venvs"
   ]
  },
  {
   "cell_type": "markdown",
   "metadata": {
    "slideshow": {
     "slide_type": "slide"
    }
   },
   "source": [
    "### CMD in Temp Sandbox"
   ]
  },
  {
   "cell_type": "code",
   "execution_count": 30,
   "metadata": {
    "slideshow": {
     "slide_type": "fragment"
    }
   },
   "outputs": [
    {
     "name": "stdout",
     "output_type": "stream",
     "text": [
      "  ________________________________________________\r\n",
      " /                                                \\\r\n",
      "| <Oskuro> Overfiend: many patches on top of 4.0.1 |\r\n",
      "| already?<Overfiend> Oskuro: a few                |\r\n",
      "| <Overfiend> only 152 megs                        |\r\n",
      " \\                                                /\r\n",
      "  ================================================\r\n",
      "                                                     \\\r\n",
      "                                                      \\\r\n",
      "                                                        ^__^                             \r\n",
      "                                                        (oo)\\_______                   \r\n",
      "                                                        (__)\\       )\\/\\             \r\n",
      "                                                            ||----w |           \r\n",
      "                                                            ||     ||  \r\n",
      "                                                            \r\n",
      "                                                            \r\n"
     ]
    }
   ],
   "source": [
    "! pipx run cowsay \"$(fortune -s)\""
   ]
  },
  {
   "cell_type": "markdown",
   "metadata": {
    "slideshow": {
     "slide_type": "slide"
    }
   },
   "source": [
    "### Did It Install?"
   ]
  },
  {
   "cell_type": "code",
   "execution_count": 31,
   "metadata": {
    "scrolled": true,
    "slideshow": {
     "slide_type": "fragment"
    }
   },
   "outputs": [
    {
     "name": "stdout",
     "output_type": "stream",
     "text": [
      "venvs are in \u001b[1m/home/demo/.local/pipx/venvs\u001b[0m\r\n",
      "apps are exposed on your $PATH at \u001b[1m/home/demo/.local/bin\u001b[0m\r\n",
      "   package \u001b[1mpipenv\u001b[0m \u001b[1m2018.11.27.dev0\u001b[0m, Python 3.9.0a4+\r\n",
      "    - pipenv\r\n",
      "    - pipenv-resolver\r\n",
      "   package \u001b[1mpyjokes\u001b[0m \u001b[1m0.6.0\u001b[0m, Python 3.7.6\r\n",
      "    - pyjoke\r\n",
      "    - pyjokes\r\n"
     ]
    }
   ],
   "source": [
    "! pipx list"
   ]
  },
  {
   "cell_type": "markdown",
   "metadata": {
    "slideshow": {
     "slide_type": "slide"
    }
   },
   "source": [
    "## Python is Better!\n"
   ]
  },
  {
   "cell_type": "markdown",
   "metadata": {
    "slideshow": {
     "slide_type": "fragment"
    }
   },
   "source": [
    "### Tools are isolated\n",
    "### w/o worrying about venvs"
   ]
  },
  {
   "cell_type": "markdown",
   "metadata": {
    "slideshow": {
     "slide_type": "slide"
    }
   },
   "source": [
    "## What about developing libs/apps?\n",
    "# 🤔"
   ]
  },
  {
   "cell_type": "markdown",
   "metadata": {
    "slideshow": {
     "slide_type": "slide"
    }
   },
   "source": [
    "# Development\n",
    "## w/ Managed Venvs\n",
    "<img\n",
    "     src=\"img/pipenv.jpg\"\n",
    "     alt=\"pipenv\"\n",
    "     style=\"height:25vh\"\n",
    "/>"
   ]
  },
  {
   "cell_type": "markdown",
   "metadata": {
    "slideshow": {
     "slide_type": "slide"
    }
   },
   "source": [
    "# Pipenv\n",
    "### Python Development\n",
    "### Workflow for Humans"
   ]
  },
  {
   "cell_type": "markdown",
   "metadata": {
    "slideshow": {
     "slide_type": "notes"
    }
   },
   "source": [
    "* bundler style ux"
   ]
  },
  {
   "cell_type": "markdown",
   "metadata": {
    "slideshow": {
     "slide_type": "slide"
    }
   },
   "source": [
    "# Pipenv Demo\n",
    "## Part 1:\n",
    "## Developing a Script"
   ]
  },
  {
   "cell_type": "markdown",
   "metadata": {
    "slideshow": {
     "slide_type": "slide"
    }
   },
   "source": [
    "### Write A Script: tuxsay.py"
   ]
  },
  {
   "cell_type": "code",
   "execution_count": 32,
   "metadata": {
    "slideshow": {
     "slide_type": "fragment"
    }
   },
   "outputs": [],
   "source": [
    "%%bash\n",
    "cat << EOF > ~/pipenv-example/tuxsay.py\n",
    "\n",
    "import cowsay, sys\n",
    "\n",
    "def main():\n",
    "    phrase = \" \".join(sys.argv[1:]) if sys.argv[1:] else \"meep\"\n",
    "    cowsay.tux(phrase)\n",
    "\n",
    "if __name__ == \"__main__\": main()\n",
    "EOF"
   ]
  },
  {
   "cell_type": "markdown",
   "metadata": {
    "slideshow": {
     "slide_type": "slide"
    }
   },
   "source": [
    "### Create Development Venv"
   ]
  },
  {
   "cell_type": "code",
   "execution_count": 33,
   "metadata": {
    "slideshow": {
     "slide_type": "slide"
    }
   },
   "outputs": [
    {
     "name": "stdout",
     "output_type": "stream",
     "text": [
      "\u001b[39m\u001b[1mCreating a virtualenv for this project…\u001b[39m\u001b[22m\n",
      "Pipfile: \u001b[31m\u001b[1m/home/demo/pipenv-example/Pipfile\u001b[39m\u001b[22m\n",
      "\u001b[39m\u001b[1mUsing\u001b[39m\u001b[22m \u001b[31m\u001b[1m/home/demo/.local/share/virtualenvs/project-sz1wRXxf/bin/python3.9\u001b[39m\u001b[22m \u001b[32m\u001b[22m(3.9.0)\u001b[39m\u001b[22m \u001b[39m\u001b[1mto create virtualenv…\u001b[39m\u001b[22m\n",
      "⠧\u001b[0m Creating virtual environment...\u001b[K\u001b[34m\u001b[22mcreated virtual environment CPython3.9.0.alpha.4-64 in 491ms\n",
      "  creator CPython3Posix(dest=/home/demo/.local/share/virtualenvs/pipenv-example-xZRMJ9gp, clear=False, global=False)\n",
      "  seeder FromAppData(download=False, pip=latest, setuptools=latest, wheel=latest, via=copy, app_data_dir=/home/demo/.local/share/virtualenv/seed-app-data/v1)\n",
      "  activators BashActivator,CShellActivator,FishActivator,PowerShellActivator,PythonActivator,XonshActivator\n",
      "\u001b[39m\u001b[22m\n",
      "\u001b[K\u001b[?25h\u001b[32m\u001b[22m✔ Successfully created virtual environment!\u001b[39m\u001b[22m\u001b[0m \n",
      "Virtualenv location: \u001b[32m\u001b[22m/home/demo/.local/share/virtualenvs/pipenv-example-xZRMJ9gp\u001b[39m\u001b[22m\n",
      "\u001b[39m\u001b[1mCreating a Pipfile for this project…\u001b[39m\u001b[22m\n",
      "\u001b[39m\u001b[1mInstalling \u001b[32m\u001b[1mcowsay~=2.0\u001b[39m\u001b[22m…\u001b[39m\u001b[22m\n",
      "\u001b[K\u001b[39m\u001b[1mAdding\u001b[39m\u001b[22m \u001b[32m\u001b[1mcowsay\u001b[39m\u001b[22m \u001b[39m\u001b[1mto Pipfile's\u001b[39m\u001b[22m \u001b[31m\u001b[1m[packages]\u001b[39m\u001b[22m\u001b[39m\u001b[1m…\u001b[39m\u001b[22m\n",
      "\u001b[K\u001b[?25h✔ Installation Succeeded\u001b[0m \n",
      "\u001b[39m\u001b[1mInstalling dependencies from Pipfile…\u001b[39m\u001b[22m\n",
      "  🐍   \u001b[32m\u001b[1m▉\u001b[39m\u001b[22m\u001b[32m\u001b[1m▉\u001b[39m\u001b[22m\u001b[32m\u001b[1m▉\u001b[39m\u001b[22m\u001b[32m\u001b[1m▉\u001b[39m\u001b[22m\u001b[32m\u001b[1m▉\u001b[39m\u001b[22m\u001b[32m\u001b[1m▉\u001b[39m\u001b[22m\u001b[32m\u001b[1m▉\u001b[39m\u001b[22m\u001b[32m\u001b[1m▉\u001b[39m\u001b[22m\u001b[32m\u001b[1m▉\u001b[39m\u001b[22m\u001b[32m\u001b[1m▉\u001b[39m\u001b[22m\u001b[32m\u001b[1m▉\u001b[39m\u001b[22m\u001b[32m\u001b[1m▉\u001b[39m\u001b[22m\u001b[32m\u001b[1m▉\u001b[39m\u001b[22m\u001b[32m\u001b[1m▉\u001b[39m\u001b[22m\u001b[32m\u001b[1m▉\u001b[39m\u001b[22m\u001b[32m\u001b[1m▉\u001b[39m\u001b[22m\u001b[32m\u001b[1m▉\u001b[39m\u001b[22m\u001b[32m\u001b[1m▉\u001b[39m\u001b[22m\u001b[32m\u001b[1m▉\u001b[39m\u001b[22m\u001b[32m\u001b[1m▉\u001b[39m\u001b[22m\u001b[32m\u001b[1m▉\u001b[39m\u001b[22m\u001b[32m\u001b[1m▉\u001b[39m\u001b[22m\u001b[32m\u001b[1m▉\u001b[39m\u001b[22m\u001b[32m\u001b[1m▉\u001b[39m\u001b[22m\u001b[32m\u001b[1m▉\u001b[39m\u001b[22m\u001b[32m\u001b[1m▉\u001b[39m\u001b[22m\u001b[32m\u001b[1m▉\u001b[39m\u001b[22m\u001b[32m\u001b[1m▉\u001b[39m\u001b[22m\u001b[32m\u001b[1m▉\u001b[39m\u001b[22m\u001b[32m\u001b[1m▉\u001b[39m\u001b[22m\u001b[32m\u001b[1m▉\u001b[39m\u001b[22m\u001b[32m\u001b[1m▉\u001b[39m\u001b[22m 1/1 — \u001b[30m\u001b[22m00:00:00\u001b[39m\u001b[22m1 — \u001b[30m\u001b[22m00:00:00\u001b[39m\u001b[22m\n",
      "\u001b[0m"
     ]
    }
   ],
   "source": [
    "! cd ~/pipenv-example ;\\\n",
    "  pipenv install 'cowsay~=2.0'"
   ]
  },
  {
   "cell_type": "markdown",
   "metadata": {
    "slideshow": {
     "slide_type": "notes"
    }
   },
   "source": [
    "* venv created w/ dep\n",
    "* what is this Pipfile?"
   ]
  },
  {
   "cell_type": "markdown",
   "metadata": {
    "slideshow": {
     "slide_type": "slide"
    }
   },
   "source": [
    "### Run Inside The Venv"
   ]
  },
  {
   "cell_type": "code",
   "execution_count": 34,
   "metadata": {
    "slideshow": {
     "slide_type": "fragment"
    }
   },
   "outputs": [
    {
     "name": "stdout",
     "output_type": "stream",
     "text": [
      "  ____\r\n",
      "< meep >\r\n",
      "  ====\r\n",
      "         \\\r\n",
      "          \\\r\n",
      "           \\     \r\n",
      "            .--.\r\n",
      "           |o_o |\r\n",
      "           |:_/ |\r\n",
      "          //   \\ \\\r\n",
      "         (|     | )\r\n",
      "        /'\\_   _/`\\\r\n",
      "        \\___)=(___/\r\n",
      "        \r\n",
      "        \r\n"
     ]
    }
   ],
   "source": [
    "! cd ~/pipenv-example ;\\\n",
    "pipenv run python3 tuxsay.py"
   ]
  },
  {
   "cell_type": "markdown",
   "metadata": {
    "slideshow": {
     "slide_type": "slide"
    }
   },
   "source": [
    "### What Is This Pipfile About?\n",
    "# 😕"
   ]
  },
  {
   "cell_type": "markdown",
   "metadata": {
    "slideshow": {
     "slide_type": "slide"
    }
   },
   "source": [
    "### Pipfile Supplants requirements.txt"
   ]
  },
  {
   "cell_type": "code",
   "execution_count": 35,
   "metadata": {
    "scrolled": false,
    "slideshow": {
     "slide_type": "fragment"
    }
   },
   "outputs": [
    {
     "name": "stdout",
     "output_type": "stream",
     "text": [
      "[[source]]\r\n",
      "name = \"pypi\"\r\n",
      "url = \"https://pypi.org/simple\"\r\n",
      "verify_ssl = true\r\n",
      "\r\n",
      "[dev-packages]\r\n",
      "\r\n",
      "[packages]\r\n",
      "cowsay = \"~=2.0\"\r\n",
      "\r\n",
      "[requires]\r\n",
      "python_version = \"3.9\"\r\n"
     ]
    }
   ],
   "source": [
    "! cat ~/pipenv-example/Pipfile"
   ]
  },
  {
   "cell_type": "markdown",
   "metadata": {
    "slideshow": {
     "slide_type": "slide"
    }
   },
   "source": [
    "## Part 2:\n",
    "## Application Development"
   ]
  },
  {
   "cell_type": "markdown",
   "metadata": {
    "slideshow": {
     "slide_type": "slide"
    }
   },
   "source": [
    "### Configure Build/Pkg: setup.py "
   ]
  },
  {
   "cell_type": "code",
   "execution_count": 38,
   "metadata": {
    "slideshow": {
     "slide_type": "fragment"
    }
   },
   "outputs": [],
   "source": [
    "%%bash\n",
    "cat << EOF > ~/pipenv-example/setup.py\n",
    "\n",
    "from setuptools import setup\n",
    "setup(name=\"tuxsay\",\n",
    "      version=\"0.0.2\",\n",
    "      py_modules=[\"tuxsay\"],\n",
    "      install_requires=[\"cowsay~=2.0\"],  # Abstract requirements\n",
    "      entry_points={\"console_scripts\": [\"tuxsay=tuxsay:main\"]})\n",
    "\n",
    "EOF"
   ]
  },
  {
   "cell_type": "markdown",
   "metadata": {
    "slideshow": {
     "slide_type": "slide"
    }
   },
   "source": [
    "### Update The Environment"
   ]
  },
  {
   "cell_type": "code",
   "execution_count": 39,
   "metadata": {
    "slideshow": {
     "slide_type": "fragment"
    }
   },
   "outputs": [
    {
     "name": "stdout",
     "output_type": "stream",
     "text": [
      "Installing -e .…\n",
      "Installing dependencies from Pipfile…\n"
     ]
    },
    {
     "name": "stderr",
     "output_type": "stream",
     "text": [
      "Creating a Pipfile for this project…\n",
      "\r",
      "⠋ Installing...\b\r",
      "⠙ Installing tuxsay...\b\r",
      "⠹ Installing tuxsay...\b\r",
      "⠸ Installing tuxsay...\b\r",
      "⠼ Installing tuxsay...\b\r",
      "⠴ Installing tuxsay...\b\r",
      "⠦ Installing tuxsay...\b\r",
      "⠧ Installing tuxsay...\b\r",
      "⠇ Installing tuxsay...\b\r",
      "⠏ Installing tuxsay...\b\r",
      "⠋ Installing tuxsay...\b\r",
      "⠙ Installing tuxsay...\b\r",
      "⠹ Installing tuxsay...\b\r",
      "⠸ Installing tuxsay...\b\r",
      "⠼ Installing tuxsay...\b\r",
      "⠴ Installing tuxsay...\b\r",
      "⠦ Installing tuxsay...\b\r",
      "⠧ Installing tuxsay...\b\r",
      "⠇ Installing tuxsay...\r",
      "Adding tuxsay to Pipfile's [packages]…\n",
      "\b✔ Installation Succeeded \n"
     ]
    }
   ],
   "source": [
    "%%bash -l\n",
    "rm -f -- ~/pipenv-example/Pipfile\n",
    "cd ~/pipenv-example\n",
    "pipenv install --editable ."
   ]
  },
  {
   "cell_type": "markdown",
   "metadata": {
    "slideshow": {
     "slide_type": "slide"
    }
   },
   "source": [
    "### Run App"
   ]
  },
  {
   "cell_type": "code",
   "execution_count": 40,
   "metadata": {
    "slideshow": {
     "slide_type": "fragment"
    }
   },
   "outputs": [
    {
     "name": "stdout",
     "output_type": "stream",
     "text": [
      "  _________________________________________________\r\n",
      " /                                                 \\\r\n",
      "| /home/demo/.local/share/virtualenvs/pipenv-exampl |\r\n",
      "| e-xZRMJ9gp                                        |\r\n",
      " \\                                                 /\r\n",
      "  =================================================\r\n",
      "                                                      \\\r\n",
      "                                                       \\\r\n",
      "                                                        \\                                                  \r\n",
      "                                                         .--.\r\n",
      "                                                        |o_o |\r\n",
      "                                                        |:_/ |\r\n",
      "                                                       //   \\ \\\r\n",
      "                                                      (|     | )\r\n",
      "                                                     /'\\_   _/`\\\r\n",
      "                                                     \\___)=(___/\r\n",
      "                                                     \r\n",
      "                                                     \r\n"
     ]
    }
   ],
   "source": [
    "! cd ~/pipenv-example ;\\\n",
    "  pipenv run tuxsay $(pipenv --venv)"
   ]
  },
  {
   "cell_type": "markdown",
   "metadata": {
    "slideshow": {
     "slide_type": "slide"
    }
   },
   "source": [
    "### Add Some Dev Tools"
   ]
  },
  {
   "cell_type": "code",
   "execution_count": 41,
   "metadata": {
    "slideshow": {
     "slide_type": "fragment"
    }
   },
   "outputs": [
    {
     "name": "stdout",
     "output_type": "stream",
     "text": [
      "\u001b[39m\u001b[1mInstalling \u001b[32m\u001b[1mpylint\u001b[39m\u001b[22m…\u001b[39m\u001b[22m\n",
      "\u001b[K\u001b[39m\u001b[1mAdding\u001b[39m\u001b[22m \u001b[32m\u001b[1mpylint\u001b[39m\u001b[22m \u001b[39m\u001b[1mto Pipfile's\u001b[39m\u001b[22m \u001b[31m\u001b[1m[dev-packages]\u001b[39m\u001b[22m\u001b[39m\u001b[1m…\u001b[39m\u001b[22m\n",
      "\u001b[K\u001b[?25h✔ Installation Succeeded\u001b[0m \n",
      "\u001b[39m\u001b[1mInstalling dependencies from Pipfile…\u001b[39m\u001b[22m\n",
      "  🐍   \u001b[32m\u001b[1m▉\u001b[39m\u001b[22m\u001b[32m\u001b[1m▉\u001b[39m\u001b[22m\u001b[32m\u001b[1m▉\u001b[39m\u001b[22m\u001b[32m\u001b[1m▉\u001b[39m\u001b[22m\u001b[32m\u001b[1m▉\u001b[39m\u001b[22m\u001b[32m\u001b[1m▉\u001b[39m\u001b[22m\u001b[32m\u001b[1m▉\u001b[39m\u001b[22m\u001b[32m\u001b[1m▉\u001b[39m\u001b[22m\u001b[32m\u001b[1m▉\u001b[39m\u001b[22m\u001b[32m\u001b[1m▉\u001b[39m\u001b[22m\u001b[32m\u001b[1m▉\u001b[39m\u001b[22m\u001b[32m\u001b[1m▉\u001b[39m\u001b[22m\u001b[32m\u001b[1m▉\u001b[39m\u001b[22m\u001b[32m\u001b[1m▉\u001b[39m\u001b[22m\u001b[32m\u001b[1m▉\u001b[39m\u001b[22m\u001b[32m\u001b[1m▉\u001b[39m\u001b[22m\u001b[32m\u001b[1m▉\u001b[39m\u001b[22m\u001b[32m\u001b[1m▉\u001b[39m\u001b[22m\u001b[32m\u001b[1m▉\u001b[39m\u001b[22m\u001b[32m\u001b[1m▉\u001b[39m\u001b[22m\u001b[32m\u001b[1m▉\u001b[39m\u001b[22m\u001b[32m\u001b[1m▉\u001b[39m\u001b[22m\u001b[32m\u001b[1m▉\u001b[39m\u001b[22m\u001b[32m\u001b[1m▉\u001b[39m\u001b[22m\u001b[32m\u001b[1m▉\u001b[39m\u001b[22m\u001b[32m\u001b[1m▉\u001b[39m\u001b[22m\u001b[32m\u001b[1m▉\u001b[39m\u001b[22m\u001b[32m\u001b[1m▉\u001b[39m\u001b[22m\u001b[32m\u001b[1m▉\u001b[39m\u001b[22m\u001b[32m\u001b[1m▉\u001b[39m\u001b[22m\u001b[32m\u001b[1m▉\u001b[39m\u001b[22m\u001b[32m\u001b[1m▉\u001b[39m\u001b[22m 2/2 — \u001b[30m\u001b[22m00:00:02\u001b[39m\u001b[22m:00:00\u001b[39m\u001b[22m:00:00\u001b[39m\u001b[22m\n",
      "\u001b[0m"
     ]
    }
   ],
   "source": [
    "! cd ~/pipenv-example ;\\\n",
    "  pipenv install --dev pylint"
   ]
  },
  {
   "cell_type": "markdown",
   "metadata": {
    "slideshow": {
     "slide_type": "slide"
    }
   },
   "source": [
    "### New Pipfile"
   ]
  },
  {
   "cell_type": "code",
   "execution_count": 42,
   "metadata": {
    "scrolled": false,
    "slideshow": {
     "slide_type": "fragment"
    }
   },
   "outputs": [
    {
     "name": "stdout",
     "output_type": "stream",
     "text": [
      "[[source]]\r\n",
      "name = \"pypi\"\r\n",
      "url = \"https://pypi.org/simple\"\r\n",
      "verify_ssl = true\r\n",
      "\r\n",
      "[dev-packages]\r\n",
      "pylint = \"*\"\r\n",
      "\r\n",
      "[packages]\r\n",
      "tuxsay = {editable = true,path = \".\"}\r\n",
      "\r\n",
      "[requires]\r\n",
      "python_version = \"3.9\"\r\n"
     ]
    }
   ],
   "source": [
    "! cat ~/pipenv-example/Pipfile"
   ]
  },
  {
   "cell_type": "markdown",
   "metadata": {
    "slideshow": {
     "slide_type": "slide"
    }
   },
   "source": [
    "### Cleanup"
   ]
  },
  {
   "cell_type": "code",
   "execution_count": 1,
   "metadata": {
    "scrolled": true,
    "slideshow": {
     "slide_type": "fragment"
    }
   },
   "outputs": [
    {
     "name": "stdout",
     "output_type": "stream",
     "text": [
      "\u001b[39m\u001b[22m\u001b[39m\u001b[1mRemoving virtualenv\u001b[39m\u001b[22m (\u001b[32m\u001b[22m/home/demo/.local/share/virtualenvs/pipenv-example-xZRMJ9gp\u001b[39m\u001b[22m)…\u001b[39m\u001b[22m\n",
      "\u001b[K\u001b[?25h\u001b[0m...\u001b["
     ]
    }
   ],
   "source": [
    "! cd ~/pipenv-example ;\\\n",
    "  pipenv --rm"
   ]
  },
  {
   "cell_type": "markdown",
   "metadata": {
    "slideshow": {
     "slide_type": "slide"
    }
   },
   "source": [
    "### We Can (Re)build w/ any Python version"
   ]
  },
  {
   "cell_type": "code",
   "execution_count": 2,
   "metadata": {
    "slideshow": {
     "slide_type": "fragment"
    }
   },
   "outputs": [
    {
     "name": "stdout",
     "output_type": "stream",
     "text": [
      "\u001b[39m\u001b[1mCreating a virtualenv for this project…\u001b[39m\u001b[22m\n",
      "Pipfile: \u001b[31m\u001b[1m/home/demo/pipenv-example/Pipfile\u001b[39m\u001b[22m\n",
      "\u001b[39m\u001b[1mUsing\u001b[39m\u001b[22m \u001b[31m\u001b[1m/home/demo/.pyenv/versions/3.7.6/bin/python3.7\u001b[39m\u001b[22m \u001b[32m\u001b[22m(3.7.6)\u001b[39m\u001b[22m \u001b[39m\u001b[1mto create virtualenv…\u001b[39m\u001b[22m\n",
      "⠼\u001b[0m Creating virtual environment...\u001b[K\u001b[34m\u001b[22mcreated virtual environment CPython3.7.6.final.0-64 in 274ms\n",
      "  creator CPython3Posix(dest=/home/demo/.local/share/virtualenvs/pipenv-example-xZRMJ9gp, clear=False, global=False)\n",
      "  seeder FromAppData(download=False, pip=latest, setuptools=latest, wheel=latest, via=copy, app_data_dir=/home/demo/.local/share/virtualenv/seed-app-data/v1)\n",
      "  activators BashActivator,CShellActivator,FishActivator,PowerShellActivator,PythonActivator,XonshActivator\n",
      "\u001b[39m\u001b[22m\n",
      "\u001b[K\u001b[?25h\u001b[32m\u001b[22m✔ Successfully created virtual environment!\u001b[39m\u001b[22m\u001b[0m \n",
      "Virtualenv location: \u001b[32m\u001b[22m/home/demo/.local/share/virtualenvs/pipenv-example-xZRMJ9gp\u001b[39m\u001b[22m\n",
      "\u001b[31m\u001b[1mWarning\u001b[39m\u001b[22m: Your Pipfile requires \u001b[39m\u001b[1mpython_version\u001b[39m\u001b[22m \u001b[34m\u001b[22m3.9\u001b[39m\u001b[22m, but you are using \u001b[34m\u001b[22m3.7.6\u001b[39m\u001b[22m (\u001b[32m\u001b[22m/home/demo/.local/share/v/p/bin/python\u001b[39m\u001b[22m).\n",
      "  \u001b[32m\u001b[22m$ pipenv --rm\u001b[39m\u001b[22m and rebuilding the virtual environment may resolve the issue.\n",
      "  \u001b[31m\u001b[22m$ pipenv check\u001b[39m\u001b[22m will surely fail.\n",
      "\u001b[31m\u001b[1mWarning\u001b[39m\u001b[22m: Your Pipfile requires \u001b[39m\u001b[1mpython_version\u001b[39m\u001b[22m \u001b[34m\u001b[22m3.9\u001b[39m\u001b[22m, but you are using \u001b[34m\u001b[22m3.7.6\u001b[39m\u001b[22m (\u001b[32m\u001b[22m/home/demo/.local/share/v/p/bin/python\u001b[39m\u001b[22m).\n",
      "  \u001b[32m\u001b[22m$ pipenv --rm\u001b[39m\u001b[22m and rebuilding the virtual environment may resolve the issue.\n",
      "  \u001b[31m\u001b[22m$ pipenv check\u001b[39m\u001b[22m will surely fail.\n",
      "\u001b[39m\u001b[1mInstalling dependencies from Pipfile…\u001b[39m\u001b[22m\n",
      "  🐍   \u001b[32m\u001b[1m▉\u001b[39m\u001b[22m\u001b[32m\u001b[1m▉\u001b[39m\u001b[22m\u001b[32m\u001b[1m▉\u001b[39m\u001b[22m\u001b[32m\u001b[1m▉\u001b[39m\u001b[22m\u001b[32m\u001b[1m▉\u001b[39m\u001b[22m\u001b[32m\u001b[1m▉\u001b[39m\u001b[22m\u001b[32m\u001b[1m▉\u001b[39m\u001b[22m\u001b[32m\u001b[1m▉\u001b[39m\u001b[22m\u001b[32m\u001b[1m▉\u001b[39m\u001b[22m\u001b[32m\u001b[1m▉\u001b[39m\u001b[22m\u001b[32m\u001b[1m▉\u001b[39m\u001b[22m\u001b[32m\u001b[1m▉\u001b[39m\u001b[22m\u001b[32m\u001b[1m▉\u001b[39m\u001b[22m\u001b[32m\u001b[1m▉\u001b[39m\u001b[22m\u001b[32m\u001b[1m▉\u001b[39m\u001b[22m\u001b[32m\u001b[1m▉\u001b[39m\u001b[22m\u001b[32m\u001b[1m▉\u001b[39m\u001b[22m\u001b[32m\u001b[1m▉\u001b[39m\u001b[22m\u001b[32m\u001b[1m▉\u001b[39m\u001b[22m\u001b[32m\u001b[1m▉\u001b[39m\u001b[22m\u001b[32m\u001b[1m▉\u001b[39m\u001b[22m\u001b[32m\u001b[1m▉\u001b[39m\u001b[22m\u001b[32m\u001b[1m▉\u001b[39m\u001b[22m\u001b[32m\u001b[1m▉\u001b[39m\u001b[22m\u001b[32m\u001b[1m▉\u001b[39m\u001b[22m\u001b[32m\u001b[1m▉\u001b[39m\u001b[22m\u001b[32m\u001b[1m▉\u001b[39m\u001b[22m\u001b[32m\u001b[1m▉\u001b[39m\u001b[22m\u001b[32m\u001b[1m▉\u001b[39m\u001b[22m\u001b[32m\u001b[1m▉\u001b[39m\u001b[22m\u001b[32m\u001b[1m▉\u001b[39m\u001b[22m\u001b[32m\u001b[1m▉\u001b[39m\u001b[22m 2/2 — \u001b[30m\u001b[22m00:00:05\u001b[39m\u001b[22m:00:01\u001b[39m\u001b[22m:00:00\u001b[39m\u001b[22m\n",
      "\u001b[0m"
     ]
    }
   ],
   "source": [
    "! cd ~/pipenv-example ;\\\n",
    "  pipenv --python python3.7 install --dev"
   ]
  },
  {
   "cell_type": "markdown",
   "metadata": {
    "slideshow": {
     "slide_type": "slide"
    }
   },
   "source": [
    "### Dependency Resolution"
   ]
  },
  {
   "cell_type": "code",
   "execution_count": 3,
   "metadata": {
    "scrolled": true,
    "slideshow": {
     "slide_type": "fragment"
    }
   },
   "outputs": [
    {
     "name": "stdout",
     "output_type": "stream",
     "text": [
      "\u001b[39m\u001b[1mpylint==2.4.4\u001b[39m\u001b[22m\n",
      "\u001b[39m\u001b[22m  - astroid [required: >=2.3.0,<2.4, installed: 2.3.3]\u001b[39m\u001b[22m\n",
      "\u001b[39m\u001b[22m    - lazy-object-proxy [required: ==1.4.*, installed: 1.4.3]\u001b[39m\u001b[22m\n",
      "\u001b[39m\u001b[22m    - six [required: ~=1.12, installed: 1.14.0]\u001b[39m\u001b[22m\n",
      "\u001b[39m\u001b[22m    - typed-ast [required: >=1.4.0,<1.5, installed: 1.4.1]\u001b[39m\u001b[22m\n",
      "\u001b[39m\u001b[22m    - wrapt [required: ==1.11.*, installed: 1.11.2]\u001b[39m\u001b[22m\n",
      "\u001b[39m\u001b[22m  - isort [required: >=4.2.5,<5, installed: 4.3.21]\u001b[39m\u001b[22m\n",
      "\u001b[39m\u001b[22m  - mccabe [required: >=0.6,<0.7, installed: 0.6.1]\u001b[39m\u001b[22m\n",
      "\u001b[39m\u001b[1mtuxsay==0.0.2\u001b[39m\u001b[22m\n",
      "\u001b[39m\u001b[22m  - cowsay [required: ~=2.0, installed: 2.0.3]\u001b[39m\u001b[22m\n",
      "\u001b[0m"
     ]
    }
   ],
   "source": [
    "! cd ~/pipenv-example ;\\\n",
    "  pipenv graph"
   ]
  },
  {
   "cell_type": "markdown",
   "metadata": {
    "slideshow": {
     "slide_type": "notes"
    }
   },
   "source": [
    "Escape dep hell"
   ]
  },
  {
   "cell_type": "markdown",
   "metadata": {
    "slideshow": {
     "slide_type": "slide"
    }
   },
   "source": [
    "### More Complex Dependencies"
   ]
  },
  {
   "cell_type": "code",
   "execution_count": 4,
   "metadata": {
    "slideshow": {
     "slide_type": "fragment"
    }
   },
   "outputs": [
    {
     "name": "stdout",
     "output_type": "stream",
     "text": [
      "\u001b[39m\u001b[1mgnupg==2.3.1\u001b[39m\u001b[22m\r\n",
      "\u001b[39m\u001b[22m  - psutil [required: >=1.2.1, installed: 5.7.0]\u001b[39m\u001b[22m\r\n",
      "\u001b[39m\u001b[1mPillow==7.0.0\u001b[39m\u001b[22m\r\n",
      "\u001b[39m\u001b[1mpython-gnupg==0.4.5\u001b[39m\u001b[22m\r\n",
      "\u001b[39m\u001b[1mrise==5.6.1\u001b[39m\u001b[22m\r\n",
      "\u001b[39m\u001b[22m  - notebook [required: >=5.5.0, installed: 6.0.3]\u001b[39m\u001b[22m\r\n",
      "\u001b[39m\u001b[22m    - ipykernel [required: Any, installed: 5.1.4]\u001b[39m\u001b[22m\r\n",
      "\u001b[39m\u001b[22m      - ipython [required: >=5.0.0, installed: 7.13.0]\u001b[39m\u001b[22m\r\n",
      "\u001b[39m\u001b[22m        - backcall [required: Any, installed: 0.1.0]\u001b[39m\u001b[22m\r\n",
      "\u001b[39m\u001b[22m        - decorator [required: Any, installed: 4.4.2]\u001b[39m\u001b[22m\r\n",
      "\u001b[39m\u001b[22m        - jedi [required: >=0.10, installed: 0.16.0]\u001b[39m\u001b[22m\r\n",
      "\u001b[39m\u001b[22m          - parso [required: >=0.5.2, installed: 0.6.2]\u001b[39m\u001b[22m\r\n",
      "\u001b[39m\u001b[22m        - pexpect [required: Any, installed: 4.8.0]\u001b[39m\u001b[22m\r\n",
      "\u001b[39m\u001b[22m          - ptyprocess [required: >=0.5, installed: 0.6.0]\u001b[39m\u001b[22m\r\n",
      "\u001b[39m\u001b[22m        - pickleshare [required: Any, installed: 0.7.5]\u001b[39m\u001b[22m\r\n",
      "\u001b[39m\u001b[22m        - prompt-toolkit [required: >=2.0.0,<3.1.0,!=3.0.1,!=3.0.0, installed: 3.0.3]\u001b[39m\u001b[22m\r\n",
      "\u001b[39m\u001b[22m          - wcwidth [required: Any, installed: 0.1.8]\u001b[39m\u001b[22m\r\n",
      "\u001b[39m\u001b[22m        - pygments [required: Any, installed: 2.5.2]\u001b[39m\u001b[22m\r\n",
      "\u001b[39m\u001b[22m        - setuptools [required: >=18.5, installed: 45.2.0]\u001b[39m\u001b[22m\r\n",
      "\u001b[39m\u001b[22m        - traitlets [required: >=4.2, installed: 4.3.3]\u001b[39m\u001b[22m\r\n",
      "\u001b[39m\u001b[22m          - decorator [required: Any, installed: 4.4.2]\u001b[39m\u001b[22m\r\n",
      "\u001b[39m\u001b[22m          - ipython-genutils [required: Any, installed: 0.2.0]\u001b[39m\u001b[22m\r\n",
      "\u001b[39m\u001b[22m          - six [required: Any, installed: 1.14.0]\u001b[39m\u001b[22m\r\n",
      "\u001b[39m\u001b[22m      - jupyter-client [required: Any, installed: 6.0.0]\u001b[39m\u001b[22m\r\n",
      "\u001b[39m\u001b[22m        - jupyter-core [required: >=4.6.0, installed: 4.6.3]\u001b[39m\u001b[22m\r\n",
      "\u001b[39m\u001b[22m          - traitlets [required: Any, installed: 4.3.3]\u001b[39m\u001b[22m\r\n",
      "\u001b[39m\u001b[22m            - decorator [required: Any, installed: 4.4.2]\u001b[39m\u001b[22m\r\n",
      "\u001b[39m\u001b[22m            - ipython-genutils [required: Any, installed: 0.2.0]\u001b[39m\u001b[22m\r\n",
      "\u001b[39m\u001b[22m            - six [required: Any, installed: 1.14.0]\u001b[39m\u001b[22m\r\n",
      "\u001b[39m\u001b[22m        - python-dateutil [required: >=2.1, installed: 2.8.1]\u001b[39m\u001b[22m\r\n",
      "\u001b[39m\u001b[22m          - six [required: >=1.5, installed: 1.14.0]\u001b[39m\u001b[22m\r\n",
      "\u001b[39m\u001b[22m        - pyzmq [required: >=13, installed: 19.0.0]\u001b[39m\u001b[22m\r\n",
      "\u001b[39m\u001b[22m        - tornado [required: >=4.1, installed: 6.0.4]\u001b[39m\u001b[22m\r\n",
      "\u001b[39m\u001b[22m        - traitlets [required: Any, installed: 4.3.3]\u001b[39m\u001b[22m\r\n",
      "\u001b[39m\u001b[22m          - decorator [required: Any, installed: 4.4.2]\u001b[39m\u001b[22m\r\n",
      "\u001b[39m\u001b[22m          - ipython-genutils [required: Any, installed: 0.2.0]\u001b[39m\u001b[22m\r\n",
      "\u001b[39m\u001b[22m          - six [required: Any, installed: 1.14.0]\u001b[39m\u001b[22m\r\n",
      "\u001b[39m\u001b[22m      - tornado [required: >=4.2, installed: 6.0.4]\u001b[39m\u001b[22m\r\n",
      "\u001b[39m\u001b[22m      - traitlets [required: >=4.1.0, installed: 4.3.3]\u001b[39m\u001b[22m\r\n",
      "\u001b[39m\u001b[22m        - decorator [required: Any, installed: 4.4.2]\u001b[39m\u001b[22m\r\n",
      "\u001b[39m\u001b[22m        - ipython-genutils [required: Any, installed: 0.2.0]\u001b[39m\u001b[22m\r\n",
      "\u001b[39m\u001b[22m        - six [required: Any, installed: 1.14.0]\u001b[39m\u001b[22m\r\n",
      "\u001b[39m\u001b[22m    - ipython-genutils [required: Any, installed: 0.2.0]\u001b[39m\u001b[22m\r\n",
      "\u001b[39m\u001b[22m    - jinja2 [required: Any, installed: 2.11.1]\u001b[39m\u001b[22m\r\n",
      "\u001b[39m\u001b[22m      - MarkupSafe [required: >=0.23, installed: 1.1.1]\u001b[39m\u001b[22m\r\n",
      "\u001b[39m\u001b[22m    - jupyter-client [required: >=5.3.4, installed: 6.0.0]\u001b[39m\u001b[22m\r\n",
      "\u001b[39m\u001b[22m      - jupyter-core [required: >=4.6.0, installed: 4.6.3]\u001b[39m\u001b[22m\r\n",
      "\u001b[39m\u001b[22m        - traitlets [required: Any, installed: 4.3.3]\u001b[39m\u001b[22m\r\n",
      "\u001b[39m\u001b[22m          - decorator [required: Any, installed: 4.4.2]\u001b[39m\u001b[22m\r\n",
      "\u001b[39m\u001b[22m          - ipython-genutils [required: Any, installed: 0.2.0]\u001b[39m\u001b[22m\r\n",
      "\u001b[39m\u001b[22m          - six [required: Any, installed: 1.14.0]\u001b[39m\u001b[22m\r\n",
      "\u001b[39m\u001b[22m      - python-dateutil [required: >=2.1, installed: 2.8.1]\u001b[39m\u001b[22m\r\n",
      "\u001b[39m\u001b[22m        - six [required: >=1.5, installed: 1.14.0]\u001b[39m\u001b[22m\r\n",
      "\u001b[39m\u001b[22m      - pyzmq [required: >=13, installed: 19.0.0]\u001b[39m\u001b[22m\r\n",
      "\u001b[39m\u001b[22m      - tornado [required: >=4.1, installed: 6.0.4]\u001b[39m\u001b[22m\r\n",
      "\u001b[39m\u001b[22m      - traitlets [required: Any, installed: 4.3.3]\u001b[39m\u001b[22m\r\n",
      "\u001b[39m\u001b[22m        - decorator [required: Any, installed: 4.4.2]\u001b[39m\u001b[22m\r\n",
      "\u001b[39m\u001b[22m        - ipython-genutils [required: Any, installed: 0.2.0]\u001b[39m\u001b[22m\r\n",
      "\u001b[39m\u001b[22m        - six [required: Any, installed: 1.14.0]\u001b[39m\u001b[22m\r\n",
      "\u001b[39m\u001b[22m    - jupyter-core [required: >=4.6.1, installed: 4.6.3]\u001b[39m\u001b[22m\r\n",
      "\u001b[39m\u001b[22m      - traitlets [required: Any, installed: 4.3.3]\u001b[39m\u001b[22m\r\n",
      "\u001b[39m\u001b[22m        - decorator [required: Any, installed: 4.4.2]\u001b[39m\u001b[22m\r\n",
      "\u001b[39m\u001b[22m        - ipython-genutils [required: Any, installed: 0.2.0]\u001b[39m\u001b[22m\r\n",
      "\u001b[39m\u001b[22m        - six [required: Any, installed: 1.14.0]\u001b[39m\u001b[22m\r\n",
      "\u001b[39m\u001b[22m    - nbconvert [required: Any, installed: 5.6.1]\u001b[39m\u001b[22m\r\n",
      "\u001b[39m\u001b[22m      - bleach [required: Any, installed: 3.1.1]\u001b[39m\u001b[22m\r\n",
      "\u001b[39m\u001b[22m        - six [required: >=1.9.0, installed: 1.14.0]\u001b[39m\u001b[22m\r\n",
      "\u001b[39m\u001b[22m        - webencodings [required: Any, installed: 0.5.1]\u001b[39m\u001b[22m\r\n",
      "\u001b[39m\u001b[22m      - defusedxml [required: Any, installed: 0.6.0]\u001b[39m\u001b[22m\r\n",
      "\u001b[39m\u001b[22m      - entrypoints [required: >=0.2.2, installed: 0.3]\u001b[39m\u001b[22m\r\n",
      "\u001b[39m\u001b[22m      - jinja2 [required: >=2.4, installed: 2.11.1]\u001b[39m\u001b[22m\r\n",
      "\u001b[39m\u001b[22m        - MarkupSafe [required: >=0.23, installed: 1.1.1]\u001b[39m\u001b[22m\r\n",
      "\u001b[39m\u001b[22m      - jupyter-core [required: Any, installed: 4.6.3]\u001b[39m\u001b[22m\r\n",
      "\u001b[39m\u001b[22m        - traitlets [required: Any, installed: 4.3.3]\u001b[39m\u001b[22m\r\n",
      "\u001b[39m\u001b[22m          - decorator [required: Any, installed: 4.4.2]\u001b[39m\u001b[22m\r\n",
      "\u001b[39m\u001b[22m          - ipython-genutils [required: Any, installed: 0.2.0]\u001b[39m\u001b[22m\r\n",
      "\u001b[39m\u001b[22m          - six [required: Any, installed: 1.14.0]\u001b[39m\u001b[22m\r\n",
      "\u001b[39m\u001b[22m      - mistune [required: >=0.8.1,<2, installed: 0.8.4]\u001b[39m\u001b[22m\r\n",
      "\u001b[39m\u001b[22m      - nbformat [required: >=4.4, installed: 5.0.4]\u001b[39m\u001b[22m\r\n",
      "\u001b[39m\u001b[22m        - ipython-genutils [required: Any, installed: 0.2.0]\u001b[39m\u001b[22m\r\n",
      "\u001b[39m\u001b[22m        - jsonschema [required: >=2.4,!=2.5.0, installed: 3.2.0]\u001b[39m\u001b[22m\r\n",
      "\u001b[39m\u001b[22m          - attrs [required: >=17.4.0, installed: 19.3.0]\u001b[39m\u001b[22m\r\n",
      "\u001b[39m\u001b[22m          - pyrsistent [required: >=0.14.0, installed: 0.15.7]\u001b[39m\u001b[22m\r\n",
      "\u001b[39m\u001b[22m            - six [required: Any, installed: 1.14.0]\u001b[39m\u001b[22m\r\n",
      "\u001b[39m\u001b[22m          - setuptools [required: Any, installed: 45.2.0]\u001b[39m\u001b[22m\r\n",
      "\u001b[39m\u001b[22m          - six [required: >=1.11.0, installed: 1.14.0]\u001b[39m\u001b[22m\r\n",
      "\u001b[39m\u001b[22m        - jupyter-core [required: Any, installed: 4.6.3]\u001b[39m\u001b[22m\r\n",
      "\u001b[39m\u001b[22m          - traitlets [required: Any, installed: 4.3.3]\u001b[39m\u001b[22m\r\n",
      "\u001b[39m\u001b[22m            - decorator [required: Any, installed: 4.4.2]\u001b[39m\u001b[22m\r\n",
      "\u001b[39m\u001b[22m            - ipython-genutils [required: Any, installed: 0.2.0]\u001b[39m\u001b[22m\r\n",
      "\u001b[39m\u001b[22m            - six [required: Any, installed: 1.14.0]\u001b[39m\u001b[22m\r\n",
      "\u001b[39m\u001b[22m        - traitlets [required: >=4.1, installed: 4.3.3]\u001b[39m\u001b[22m\r\n",
      "\u001b[39m\u001b[22m          - decorator [required: Any, installed: 4.4.2]\u001b[39m\u001b[22m\r\n",
      "\u001b[39m\u001b[22m          - ipython-genutils [required: Any, installed: 0.2.0]\u001b[39m\u001b[22m\r\n",
      "\u001b[39m\u001b[22m          - six [required: Any, installed: 1.14.0]\u001b[39m\u001b[22m\r\n",
      "\u001b[39m\u001b[22m      - pandocfilters [required: >=1.4.1, installed: 1.4.2]\u001b[39m\u001b[22m\r\n",
      "\u001b[39m\u001b[22m      - pygments [required: Any, installed: 2.5.2]\u001b[39m\u001b[22m\r\n",
      "\u001b[39m\u001b[22m      - testpath [required: Any, installed: 0.4.4]\u001b[39m\u001b[22m\r\n",
      "\u001b[39m\u001b[22m      - traitlets [required: >=4.2, installed: 4.3.3]\u001b[39m\u001b[22m\r\n",
      "\u001b[39m\u001b[22m        - decorator [required: Any, installed: 4.4.2]\u001b[39m\u001b[22m\r\n",
      "\u001b[39m\u001b[22m        - ipython-genutils [required: Any, installed: 0.2.0]\u001b[39m\u001b[22m\r\n",
      "\u001b[39m\u001b[22m        - six [required: Any, installed: 1.14.0]\u001b[39m\u001b[22m\r\n",
      "\u001b[39m\u001b[22m    - nbformat [required: Any, installed: 5.0.4]\u001b[39m\u001b[22m\r\n",
      "\u001b[39m\u001b[22m      - ipython-genutils [required: Any, installed: 0.2.0]\u001b[39m\u001b[22m\r\n",
      "\u001b[39m\u001b[22m      - jsonschema [required: >=2.4,!=2.5.0, installed: 3.2.0]\u001b[39m\u001b[22m\r\n",
      "\u001b[39m\u001b[22m        - attrs [required: >=17.4.0, installed: 19.3.0]\u001b[39m\u001b[22m\r\n",
      "\u001b[39m\u001b[22m        - pyrsistent [required: >=0.14.0, installed: 0.15.7]\u001b[39m\u001b[22m\r\n",
      "\u001b[39m\u001b[22m          - six [required: Any, installed: 1.14.0]\u001b[39m\u001b[22m\r\n",
      "\u001b[39m\u001b[22m        - setuptools [required: Any, installed: 45.2.0]\u001b[39m\u001b[22m\r\n",
      "\u001b[39m\u001b[22m        - six [required: >=1.11.0, installed: 1.14.0]\u001b[39m\u001b[22m\r\n",
      "\u001b[39m\u001b[22m      - jupyter-core [required: Any, installed: 4.6.3]\u001b[39m\u001b[22m\r\n",
      "\u001b[39m\u001b[22m        - traitlets [required: Any, installed: 4.3.3]\u001b[39m\u001b[22m\r\n",
      "\u001b[39m\u001b[22m          - decorator [required: Any, installed: 4.4.2]\u001b[39m\u001b[22m\r\n",
      "\u001b[39m\u001b[22m          - ipython-genutils [required: Any, installed: 0.2.0]\u001b[39m\u001b[22m\r\n",
      "\u001b[39m\u001b[22m          - six [required: Any, installed: 1.14.0]\u001b[39m\u001b[22m\r\n",
      "\u001b[39m\u001b[22m      - traitlets [required: >=4.1, installed: 4.3.3]\u001b[39m\u001b[22m\r\n",
      "\u001b[39m\u001b[22m        - decorator [required: Any, installed: 4.4.2]\u001b[39m\u001b[22m\r\n",
      "\u001b[39m\u001b[22m        - ipython-genutils [required: Any, installed: 0.2.0]\u001b[39m\u001b[22m\r\n",
      "\u001b[39m\u001b[22m        - six [required: Any, installed: 1.14.0]\u001b[39m\u001b[22m\r\n",
      "\u001b[39m\u001b[22m    - prometheus-client [required: Any, installed: 0.7.1]\u001b[39m\u001b[22m\r\n",
      "\u001b[39m\u001b[22m    - pyzmq [required: >=17, installed: 19.0.0]\u001b[39m\u001b[22m\r\n",
      "\u001b[39m\u001b[22m    - Send2Trash [required: Any, installed: 1.5.0]\u001b[39m\u001b[22m\r\n",
      "\u001b[39m\u001b[22m    - terminado [required: >=0.8.1, installed: 0.8.3]\u001b[39m\u001b[22m\r\n",
      "\u001b[39m\u001b[22m      - ptyprocess [required: Any, installed: 0.6.0]\u001b[39m\u001b[22m\r\n",
      "\u001b[39m\u001b[22m      - tornado [required: >=4, installed: 6.0.4]\u001b[39m\u001b[22m\r\n",
      "\u001b[39m\u001b[22m    - tornado [required: >=5.0, installed: 6.0.4]\u001b[39m\u001b[22m\r\n",
      "\u001b[39m\u001b[22m    - traitlets [required: >=4.2.1, installed: 4.3.3]\u001b[39m\u001b[22m\r\n",
      "\u001b[39m\u001b[22m      - decorator [required: Any, installed: 4.4.2]\u001b[39m\u001b[22m\r\n",
      "\u001b[39m\u001b[22m      - ipython-genutils [required: Any, installed: 0.2.0]\u001b[39m\u001b[22m\r\n",
      "\u001b[39m\u001b[22m      - six [required: Any, installed: 1.14.0]\u001b[39m\u001b[22m\r\n"
     ]
    },
    {
     "name": "stdout",
     "output_type": "stream",
     "text": [
      "\u001b[0m"
     ]
    }
   ],
   "source": [
    "! pipenv graph"
   ]
  },
  {
   "cell_type": "markdown",
   "metadata": {
    "slideshow": {
     "slide_type": "slide"
    }
   },
   "source": [
    "## Escape from Dependency Hell\n",
    "<img\n",
    "     src=\"img/dep-hell.jpeg\"\n",
    "     alt=\"Lucy, Daughter of the Devil\"\n",
    "     style=\"height:45vh\"\n",
    "/>"
   ]
  },
  {
   "cell_type": "markdown",
   "metadata": {
    "slideshow": {
     "slide_type": "slide"
    }
   },
   "source": [
    "### Pipfile.lock\n",
    "### Makes Dependencies Happy"
   ]
  },
  {
   "cell_type": "markdown",
   "metadata": {
    "slideshow": {
     "slide_type": "slide"
    }
   },
   "source": [
    "### (Was Disable For Presentation)"
   ]
  },
  {
   "cell_type": "code",
   "execution_count": 5,
   "metadata": {
    "slideshow": {
     "slide_type": "fragment"
    }
   },
   "outputs": [
    {
     "name": "stdout",
     "output_type": "stream",
     "text": [
      "PIPENV_SKIP_LOCK=true\r\n"
     ]
    }
   ],
   "source": [
    "! printenv | grep -F PIPENV_SKIP_LOCK"
   ]
  },
  {
   "cell_type": "markdown",
   "metadata": {
    "slideshow": {
     "slide_type": "slide"
    }
   },
   "source": [
    "### Lock Our Dependencies"
   ]
  },
  {
   "cell_type": "code",
   "execution_count": 8,
   "metadata": {
    "scrolled": true,
    "slideshow": {
     "slide_type": "fragment"
    }
   },
   "outputs": [
    {
     "name": "stdout",
     "output_type": "stream",
     "text": [
      "\u001b[31m\u001b[1mWarning\u001b[39m\u001b[22m: Your Pipfile requires \u001b[39m\u001b[1mpython_version\u001b[39m\u001b[22m \u001b[34m\u001b[22m3.9\u001b[39m\u001b[22m, but you are using \u001b[34m\u001b[22m3.7.6\u001b[39m\u001b[22m (\u001b[32m\u001b[22m/home/demo/.local/share/v/p/bin/python\u001b[39m\u001b[22m).\n",
      "  \u001b[32m\u001b[22m$ pipenv --rm\u001b[39m\u001b[22m and rebuilding the virtual environment may resolve the issue.\n",
      "  \u001b[31m\u001b[22m$ pipenv check\u001b[39m\u001b[22m will surely fail.\n",
      "\u001b[39m\u001b[22mLocking\u001b[39m\u001b[22m \u001b[31m\u001b[22m[dev-packages]\u001b[39m\u001b[22m \u001b[39m\u001b[22mdependencies…\u001b[39m\u001b[22m\n",
      "\u001b[KBuilding requirements...\n",
      "\u001b[KResolving dependencies...\n",
      "\u001b[K\u001b[?25h\u001b[32m\u001b[22m✔ Success!\u001b[39m\u001b[22m\u001b[0m \n",
      "\u001b[39m\u001b[22mLocking\u001b[39m\u001b[22m \u001b[31m\u001b[22m[packages]\u001b[39m\u001b[22m \u001b[39m\u001b[22mdependencies…\u001b[39m\u001b[22m\n",
      "\u001b[KBuilding requirements...\n",
      "\u001b[KResolving dependencies...\n",
      "\u001b[K\u001b[?25h\u001b[32m\u001b[22m✔ Success!\u001b[39m\u001b[22m\u001b[0m \n",
      "\u001b[39m\u001b[1mUpdated Pipfile.lock (de67dd)!\u001b[39m\u001b[22m\n",
      "\u001b[0m"
     ]
    }
   ],
   "source": [
    "# ! unset PIPENV_SKIP_LOCK && \n",
    "! cd ~/pipenv-example && pipenv lock"
   ]
  },
  {
   "cell_type": "markdown",
   "metadata": {
    "slideshow": {
     "slide_type": "slide"
    }
   },
   "source": [
    "### Pipfile.lock (Concrete Dependancies)"
   ]
  },
  {
   "cell_type": "code",
   "execution_count": 9,
   "metadata": {
    "slideshow": {
     "slide_type": "fragment"
    }
   },
   "outputs": [
    {
     "name": "stdout",
     "output_type": "stream",
     "text": [
      "\u001b[1;39m{\r\n",
      "  \u001b[0m\u001b[34;1m\"cowsay\"\u001b[0m\u001b[1;39m: \u001b[0m\u001b[1;39m{\r\n",
      "    \u001b[0m\u001b[34;1m\"hashes\"\u001b[0m\u001b[1;39m: \u001b[0m\u001b[1;39m[\r\n",
      "      \u001b[0;32m\"sha256:7ec3ec1bb085cbb788b0de1e762941b4469faf41c6cdbec08a7ac072a7d1d6eb\"\u001b[0m\u001b[1;39m,\r\n",
      "      \u001b[0;32m\"sha256:debde99bae664bd91487613223c1cb291170d8703bf7d524c3a4877ad37b4dad\"\u001b[0m\u001b[1;39m\r\n",
      "    \u001b[1;39m]\u001b[0m\u001b[1;39m,\r\n",
      "    \u001b[0m\u001b[34;1m\"version\"\u001b[0m\u001b[1;39m: \u001b[0m\u001b[0;32m\"==2.0.3\"\u001b[0m\u001b[1;39m\r\n",
      "  \u001b[1;39m}\u001b[0m\u001b[1;39m,\r\n",
      "  \u001b[0m\u001b[34;1m\"tuxsay\"\u001b[0m\u001b[1;39m: \u001b[0m\u001b[1;39m{\r\n",
      "    \u001b[0m\u001b[34;1m\"editable\"\u001b[0m\u001b[1;39m: \u001b[0m\u001b[0;39mtrue\u001b[0m\u001b[1;39m,\r\n",
      "    \u001b[0m\u001b[34;1m\"path\"\u001b[0m\u001b[1;39m: \u001b[0m\u001b[0;32m\".\"\u001b[0m\u001b[1;39m\r\n",
      "  \u001b[1;39m}\u001b[0m\u001b[1;39m\r\n",
      "\u001b[1;39m}\u001b[0m\r\n"
     ]
    }
   ],
   "source": [
    "! jq .\"default\" ~/pipenv-example/Pipfile.lock"
   ]
  },
  {
   "cell_type": "markdown",
   "metadata": {
    "slideshow": {
     "slide_type": "slide"
    }
   },
   "source": [
    "## Even This Presentation Was\n",
    "## Created w/ Pipenv"
   ]
  },
  {
   "cell_type": "code",
   "execution_count": 10,
   "metadata": {
    "slideshow": {
     "slide_type": "slide"
    }
   },
   "outputs": [
    {
     "name": "stdout",
     "output_type": "stream",
     "text": [
      "[[source]]\r\n",
      "name = \"pypi\"\r\n",
      "url = \"https://pypi.org/simple\"\r\n",
      "verify_ssl = true\r\n",
      "\r\n",
      "[dev-packages]\r\n",
      "gnupg = \"~=2.3.1\"\r\n",
      "\r\n",
      "[packages]\r\n",
      "rise = \"~=5.6.1\"\r\n",
      "python-gnupg = \"~=0.4.5\"\r\n",
      "pillow = \"~=7.0\"\r\n"
     ]
    }
   ],
   "source": [
    "! cat ../Pipfile"
   ]
  },
  {
   "cell_type": "markdown",
   "metadata": {
    "slideshow": {
     "slide_type": "slide"
    }
   },
   "source": [
    "<img\n",
    "     src=\"img/why-do-i-care.jpeg\"\n",
    "     alt=\"Porcelain\"\n",
    "     style=\"height:50vh\"\n",
    "/>"
   ]
  },
  {
   "cell_type": "markdown",
   "metadata": {
    "slideshow": {
     "slide_type": "slide"
    }
   },
   "source": [
    "# ✨ ✨ ✨\n",
    "# Virtual Environments Are\n",
    "# An Implentation Detail\n",
    "# 🎉 🎉 🎉"
   ]
  },
  {
   "cell_type": "markdown",
   "metadata": {
    "slideshow": {
     "slide_type": "slide"
    }
   },
   "source": [
    "## Pipenv and Pipx\n",
    "<img\n",
    "     src=\"img/plumbing.jpg\"\n",
    "     alt=\"Porcelain\"\n",
    "     style=\"height:50vh\"\n",
    "/>"
   ]
  },
  {
   "cell_type": "markdown",
   "metadata": {
    "slideshow": {
     "slide_type": "notes"
    }
   },
   "source": [
    "* git commands porcelain\n",
    "* venv is plumbing"
   ]
  },
  {
   "cell_type": "markdown",
   "metadata": {
    "slideshow": {
     "slide_type": "slide"
    }
   },
   "source": [
    "# TL;DR\n",
    "* Managed Multiple Python Versions\n",
    "* Isolated Tools\n",
    "* Isolated Development Environments"
   ]
  },
  {
   "cell_type": "markdown",
   "metadata": {
    "slideshow": {
     "slide_type": "slide"
    }
   },
   "source": [
    "## Without Thinking About\n",
    "## Virtual Environments!"
   ]
  },
  {
   "cell_type": "markdown",
   "metadata": {
    "slideshow": {
     "slide_type": "slide"
    }
   },
   "source": [
    "### What Do You Think Tux?"
   ]
  },
  {
   "cell_type": "code",
   "execution_count": 14,
   "metadata": {
    "scrolled": true,
    "slideshow": {
     "slide_type": "fragment"
    }
   },
   "outputs": [
    {
     "name": "stdout",
     "output_type": "stream",
     "text": [
      "  ______________________\u001b[K\u001b[K\u001b[Kome/demo/pipenv-example/'\u001b[K\u001b[?25h5h\n",
      "< Python is Great Again! >\n",
      "  ======================\n",
      "                           \\\n",
      "                            \\\n",
      "                             \\                       \n",
      "                              .--.\n",
      "                             |o_o |\n",
      "                             |:_/ |\n",
      "                            //   \\ \\\n",
      "                           (|     | )\n",
      "                          /'\\_   _/`\\\n",
      "                          \\___)=(___/\n",
      "                          \n",
      "                          \n"
     ]
    }
   ],
   "source": [
    "! pipx run --spec=${HOME}/pipenv-example/ tuxsay Python is Great Again!"
   ]
  },
  {
   "cell_type": "markdown",
   "metadata": {
    "slideshow": {
     "slide_type": "slide"
    }
   },
   "source": [
    "## This Solution\n",
    "* Uses PyPA recommended tools\n",
    "* Works with core Python libs and tools\n",
    "* Workshop at PyCon 2020 teaching these tools"
   ]
  },
  {
   "cell_type": "markdown",
   "metadata": {
    "slideshow": {
     "slide_type": "slide"
    }
   },
   "source": [
    "## The Tools\n",
    "\n",
    "* `pyenv` for Py version managment\n",
    "* Abstract away `pip` `venv`\n",
    "  * `pipx`: install and running applications\n",
    "  * `pipenv`: development environment"
   ]
  },
  {
   "cell_type": "markdown",
   "metadata": {
    "slideshow": {
     "slide_type": "slide"
    }
   },
   "source": [
    "# Python Is Great Again\n",
    "<img\n",
    "     src=\"img/snake-kiss.png\"\n",
    "     alt=\"Python Kisses\"\n",
    "     style=\"height:45vh\"\n",
    "/>"
   ]
  },
  {
   "cell_type": "markdown",
   "metadata": {
    "slideshow": {
     "slide_type": "slide"
    }
   },
   "source": [
    "## Questions?\n",
    "\n",
    "* Twitter: @digitalr00ts\n",
    "* Github: CMeza99 & digitalr00ts\n",
    "* Slides: [github.com/CMeza99/presentation-mk-py-great](https://github.com/CMeza99/presentation-mk-py-great)\n",
    "\n",
    "<code style=\"color:red\">EOFError: EOF when reading a line</code>"
   ]
  },
  {
   "cell_type": "markdown",
   "metadata": {
    "slideshow": {
     "slide_type": "slide"
    }
   },
   "source": [
    "# Comments and Critiques\n",
    "\n",
    "<img\n",
    "     src=\"img/you-suck.jpg\"\n",
    "     alt=\"You Suck\"\n",
    "     style=\"height:45vh\"\n",
    "/>"
   ]
  },
  {
   "cell_type": "markdown",
   "metadata": {
    "slideshow": {
     "slide_type": "slide"
    }
   },
   "source": [
    "# Pipenv Sucks\n",
    "* [Pipenv promises a lot delivers very little](https://chriswarrick.com/blog/2018/07/17/pipenv-promises-a-lot-delivers-very-little/) - Chris Warrick, 2018\n",
    "* [RIP Pipenv](https://medium.com/telnyx-engineering/rip-pipenv-tried-too-hard-do-what-you-need-with-pip-tools-d500edc161d4) - Nick Timkovich, 2020"
   ]
  },
  {
   "cell_type": "markdown",
   "metadata": {
    "slideshow": {
     "slide_type": "notes"
    }
   },
   "source": [
    "* Mostly no longer issues\n",
    "* execpt buggy dependancy resolution\n",
    "* no release in over a year\n",
    "* run off of master"
   ]
  },
  {
   "cell_type": "markdown",
   "metadata": {
    "slideshow": {
     "slide_type": "slide"
    }
   },
   "source": [
    "# Poetry\n",
    "<img\n",
    "     src=\"img/poetry.svg\"\n",
    "     alt=\"Poetry\"\n",
    "     style=\"height:15vh; border:none\"\n",
    "/>\n"
   ]
  },
  {
   "cell_type": "markdown",
   "metadata": {
    "slideshow": {
     "slide_type": "slide"
    }
   },
   "source": [
    "## Not Solving the Same Problem\n",
    "\n",
    "> a tool for dependency management and packaging\n",
    "\n",
    "&ndash; https://python-poetry.org/docs/"
   ]
  },
  {
   "cell_type": "markdown",
   "metadata": {
    "slideshow": {
     "slide_type": "notes"
    }
   },
   "source": [
    "* Pipenv is not a packaging tool\n",
    "* generic venv tool"
   ]
  },
  {
   "cell_type": "markdown",
   "metadata": {
    "slideshow": {
     "slide_type": "slide"
    }
   },
   "source": [
    "### PIP: No Editable Install\n",
    "### w/o setup.py"
   ]
  },
  {
   "cell_type": "code",
   "execution_count": null,
   "metadata": {
    "slideshow": {
     "slide_type": "fragment"
    }
   },
   "outputs": [],
   "source": [
    "! poetry new ./poetry-example && ls ./poetry-example -1"
   ]
  },
  {
   "cell_type": "code",
   "execution_count": null,
   "metadata": {
    "slideshow": {
     "slide_type": "fragment"
    }
   },
   "outputs": [],
   "source": [
    "%%bash\n",
    "cd ${HOME}/poetry-example\n",
    "pip install -e . || exit 0"
   ]
  },
  {
   "cell_type": "markdown",
   "metadata": {
    "slideshow": {
     "slide_type": "notes"
    }
   },
   "source": [
    "* not for setuptools projects\n",
    "* poetry uses pip and setuptools under the hood\n",
    "* poetry's dep resolution is better"
   ]
  },
  {
   "cell_type": "markdown",
   "metadata": {
    "slideshow": {
     "slide_type": "slide"
    }
   },
   "source": [
    "### Pipenv Has; Poetry Does Not\n",
    "\n",
    "* No project adoption requirements\n",
    "* Wide IDE Support ([VSCode](https://github.com/microsoft/vscode-python/issues/8372), [PyCharm](https://youtrack.jetbrains.com/issue/PY-30702))\n",
    "* SCM Versioning\n",
    "* Arbitarty venv creation (w/o configuration)"
   ]
  },
  {
   "cell_type": "markdown",
   "metadata": {
    "slideshow": {
     "slide_type": "slide"
    }
   },
   "source": [
    "## Not Perfect\n",
    "* Pipenv releases \n",
    "* Pip editble installs w/o setup.py"
   ]
  }
 ],
 "metadata": {
  "celltoolbar": "Slideshow",
  "kernelspec": {
   "display_name": "Python 3",
   "language": "python",
   "name": "python3"
  },
  "language_info": {
   "codemirror_mode": {
    "name": "ipython",
    "version": 3
   },
   "file_extension": ".py",
   "mimetype": "text/x-python",
   "name": "python",
   "nbconvert_exporter": "python",
   "pygments_lexer": "ipython3",
   "version": "3.9.0a4+"
  },
  "livereveal": {},
  "pycharm": {
   "stem_cell": {
    "cell_type": "raw",
    "metadata": {
     "collapsed": false
    },
    "source": []
   }
  },
  "rise": {
   "backimage": "https://raw.githubusercontent.com/tikalk/reveal.js-tikal-theme/gh-pages/css/theme/images/bg_gray.png",
   "overlay": "<div class='line top'></div><div class='line bottom'></div><div class='line left'></div><div class='line right'></div>"
  }
 },
 "nbformat": 4,
 "nbformat_minor": 1
}
